{
  "nbformat": 4,
  "nbformat_minor": 0,
  "metadata": {
    "colab": {
      "name": "silent_speech.ipynb",
      "provenance": [],
      "collapsed_sections": [],
      "include_colab_link": true
    },
    "kernelspec": {
      "name": "python3",
      "display_name": "Python 3"
    },
    "language_info": {
      "name": "python"
    },
    "accelerator": "GPU"
  },
  "cells": [
    {
      "cell_type": "markdown",
      "metadata": {
        "id": "view-in-github",
        "colab_type": "text"
      },
      "source": [
        "<a href=\"https://colab.research.google.com/github/neuroidss/silent_speech/blob/main/silent_speech.ipynb\" target=\"_parent\"><img src=\"https://colab.research.google.com/assets/colab-badge.svg\" alt=\"Open In Colab\"/></a>"
      ]
    },
    {
      "cell_type": "code",
      "source": [
        "  from tensorflow.python.client import device_lib\n",
        "  print(device_lib.list_local_devices())"
      ],
      "metadata": {
        "id": "e-3xBUb5rMJr",
        "colab": {
          "base_uri": "https://localhost:8080/"
        },
        "outputId": "913409b0-9f69-4630-9552-51be71131aa5"
      },
      "execution_count": 1,
      "outputs": [
        {
          "output_type": "stream",
          "name": "stdout",
          "text": [
            "[name: \"/device:CPU:0\"\n",
            "device_type: \"CPU\"\n",
            "memory_limit: 268435456\n",
            "locality {\n",
            "}\n",
            "incarnation: 15946292782479762938\n",
            "xla_global_id: -1\n",
            ", name: \"/device:GPU:0\"\n",
            "device_type: \"GPU\"\n",
            "memory_limit: 14465892352\n",
            "locality {\n",
            "  bus_id: 1\n",
            "  links {\n",
            "  }\n",
            "}\n",
            "incarnation: 1317085417197894982\n",
            "physical_device_desc: \"device: 0, name: Tesla T4, pci bus id: 0000:00:04.0, compute capability: 7.5\"\n",
            "xla_global_id: 416903419\n",
            "]\n"
          ]
        }
      ]
    },
    {
      "cell_type": "markdown",
      "source": [
        "# Data"
      ],
      "metadata": {
        "id": "jMa66b9W28uu"
      }
    },
    {
      "cell_type": "code",
      "source": [
        "!rm -rf /usr/local/cuda\n",
        "!ln -s /usr/local/cuda-10.1 /usr/local/cuda"
      ],
      "metadata": {
        "id": "usKQe8b7sGoW"
      },
      "execution_count": 2,
      "outputs": []
    },
    {
      "cell_type": "code",
      "source": [
        "from google.colab import drive\n",
        "drive.mount('/content/drive')"
      ],
      "metadata": {
        "id": "5fOSdSoW4Izl",
        "colab": {
          "base_uri": "https://localhost:8080/"
        },
        "outputId": "19ab4979-9998-4ef3-a8a2-55866c3b4d01"
      },
      "execution_count": 3,
      "outputs": [
        {
          "output_type": "stream",
          "name": "stdout",
          "text": [
            "Mounted at /content/drive\n"
          ]
        }
      ]
    },
    {
      "cell_type": "code",
      "source": [
        "if True:\n",
        "    !pip install torch==1.7.1\n",
        "    %cd \"/content/drive/MyDrive/silent_speech\"\n",
        "    !rm -rf /content/drive/MyDrive/silent_speech/nv_wavenet\n",
        "    !git clone https://github.com/NVIDIA/nv-wavenet.git nv_wavenet\n",
        "    !git clone https://github.com/hubertsiuzdak/voice-conversion.git voice-conversion\n",
        "    %cp -TRv voice-conversion/nv_wavenet nv_wavenet/\n",
        "    %cd /content/drive/MyDrive/silent_speech/nv_wavenet/pytorch\n",
        "    if 'Tesla K80' in str(device_lib.list_local_devices()[1]):\n",
        "      !sed -i 's/ARCH=sm_70/ARCH=sm_37/' ./Makefile\n",
        "    else:\n",
        "      !sed -i 's/ARCH=sm_37/ARCH=sm_70/' ./Makefile\n",
        "    !rm -rf /usr/local/cuda\n",
        "    !ln -s /usr/local/cuda-10.1 /usr/local/cuda\n",
        "    #!ln -s /usr/local/cuda-11.2 /usr/local/cuda\n",
        "    !make \n",
        "    !python build.py install\n",
        "    %cd /content/drive/MyDrive/silent_speech"
      ],
      "metadata": {
        "id": "jUEm-Dd1rtFi",
        "colab": {
          "base_uri": "https://localhost:8080/"
        },
        "outputId": "7e38aaca-968c-4fd2-a088-3e3894e7385d"
      },
      "execution_count": 4,
      "outputs": [
        {
          "output_type": "stream",
          "name": "stdout",
          "text": [
            "Collecting torch==1.7.1\n",
            "  Downloading torch-1.7.1-cp37-cp37m-manylinux1_x86_64.whl (776.8 MB)\n",
            "\u001b[K     |████████████████████████████████| 776.8 MB 16 kB/s \n",
            "\u001b[?25hRequirement already satisfied: numpy in /usr/local/lib/python3.7/dist-packages (from torch==1.7.1) (1.21.6)\n",
            "Requirement already satisfied: typing-extensions in /usr/local/lib/python3.7/dist-packages (from torch==1.7.1) (4.2.0)\n",
            "Installing collected packages: torch\n",
            "  Attempting uninstall: torch\n",
            "    Found existing installation: torch 1.11.0+cu113\n",
            "    Uninstalling torch-1.11.0+cu113:\n",
            "      Successfully uninstalled torch-1.11.0+cu113\n",
            "\u001b[31mERROR: pip's dependency resolver does not currently take into account all the packages that are installed. This behaviour is the source of the following dependency conflicts.\n",
            "torchvision 0.12.0+cu113 requires torch==1.11.0, but you have torch 1.7.1 which is incompatible.\n",
            "torchtext 0.12.0 requires torch==1.11.0, but you have torch 1.7.1 which is incompatible.\n",
            "torchaudio 0.11.0+cu113 requires torch==1.11.0, but you have torch 1.7.1 which is incompatible.\u001b[0m\n",
            "Successfully installed torch-1.7.1\n",
            "/content/drive/.shortcut-targets-by-id/11DSpJ8uf_FsSlducbKib9GkhVgyrO1i8/silent_speech\n",
            "Cloning into 'nv_wavenet'...\n",
            "remote: Enumerating objects: 241, done.\u001b[K\n",
            "remote: Total 241 (delta 0), reused 0 (delta 0), pack-reused 241\u001b[K\n",
            "Receiving objects: 100% (241/241), 6.68 MiB | 13.52 MiB/s, done.\n",
            "Resolving deltas: 100% (151/151), done.\n",
            "fatal: destination path 'voice-conversion' already exists and is not an empty directory.\n",
            "'voice-conversion/nv_wavenet/LICENSE.TXT' -> 'nv_wavenet/LICENSE.TXT'\n",
            "'voice-conversion/nv_wavenet/README.md' -> 'nv_wavenet/README.md'\n",
            "'voice-conversion/nv_wavenet/math_test.cu' -> 'nv_wavenet/math_test.cu'\n",
            "'voice-conversion/nv_wavenet/matrix.cpp' -> 'nv_wavenet/matrix.cpp'\n",
            "'voice-conversion/nv_wavenet/matrix.h' -> 'nv_wavenet/matrix.h'\n",
            "'voice-conversion/nv_wavenet/matrix_math.cuh' -> 'nv_wavenet/matrix_math.cuh'\n",
            "'voice-conversion/nv_wavenet/nv_wavenet.cuh' -> 'nv_wavenet/nv_wavenet.cuh'\n",
            "'voice-conversion/nv_wavenet/nv_wavenet_conversions.cuh' -> 'nv_wavenet/nv_wavenet_conversions.cuh'\n",
            "'voice-conversion/nv_wavenet/nv_wavenet_dualblock.cuh' -> 'nv_wavenet/nv_wavenet_dualblock.cuh'\n",
            "'voice-conversion/nv_wavenet/nv_wavenet_perf.cu' -> 'nv_wavenet/nv_wavenet_perf.cu'\n",
            "'voice-conversion/nv_wavenet/nv_wavenet_persistent.cuh' -> 'nv_wavenet/nv_wavenet_persistent.cuh'\n",
            "'voice-conversion/nv_wavenet/nv_wavenet_reference.cpp' -> 'nv_wavenet/nv_wavenet_reference.cpp'\n",
            "'voice-conversion/nv_wavenet/nv_wavenet_reference.h' -> 'nv_wavenet/nv_wavenet_reference.h'\n",
            "'voice-conversion/nv_wavenet/nv_wavenet_singleblock.cuh' -> 'nv_wavenet/nv_wavenet_singleblock.cuh'\n",
            "'voice-conversion/nv_wavenet/nv_wavenet_test.cu' -> 'nv_wavenet/nv_wavenet_test.cu'\n",
            "'voice-conversion/nv_wavenet/nv_wavenet_util.cuh' -> 'nv_wavenet/nv_wavenet_util.cuh'\n",
            "'voice-conversion/nv_wavenet/softmax.cuh' -> 'nv_wavenet/softmax.cuh'\n",
            "/content/drive/.shortcut-targets-by-id/11DSpJ8uf_FsSlducbKib9GkhVgyrO1i8/silent_speech/nv_wavenet/pytorch\n",
            "nvcc -arch=sm_70 -std=c++11  --use_fast_math -lineinfo -maxrregcount 128 -I .. wavenet_infer.cu ../matrix.cpp -lz -Xcompiler -fPIC -shared -o libwavenet_infer.so\n",
            "\u001b[01m\u001b[K../nv_wavenet_conversions.cuh:\u001b[m\u001b[K In function ‘\u001b[01m\u001b[Kbool isDevicePtr(const void*)\u001b[m\u001b[K’:\n",
            "\u001b[01m\u001b[K../nv_wavenet_conversions.cuh:41:50:\u001b[m\u001b[K \u001b[01;35m\u001b[Kwarning: \u001b[m\u001b[K‘\u001b[01m\u001b[KcudaPointerAttributes::memoryType\u001b[m\u001b[K’ is deprecated [\u001b[01;35m\u001b[K-Wdeprecated-declarations\u001b[m\u001b[K]\n",
            "     return (result == cudaSuccess) && (attributes\u001b[01;35m\u001b[K.memoryTyp\u001b[m\u001b[Ke == cudaMemoryTypeDevice);\n",
            "                                                  \u001b[01;35m\u001b[K^~~~~~~~~~\u001b[m\u001b[K\n",
            "In file included from \u001b[01m\u001b[K/usr/local/cuda/bin/../targets/x86_64-linux/include/builtin_types.h:59:0\u001b[m\u001b[K,\n",
            "                 from \u001b[01m\u001b[K/usr/local/cuda/bin/../targets/x86_64-linux/include/crt/host_runtime.h:58\u001b[m\u001b[K,\n",
            "                 from \u001b[01m\u001b[K/usr/lib/gcc/x86_64-linux-gnu/7/include/stddef.h:220\u001b[m\u001b[K:\n",
            "\u001b[01m\u001b[K/usr/local/cuda-10.1/targets/x86_64-linux/include/driver_types.h:1302:43:\u001b[m\u001b[K \u001b[01;36m\u001b[Knote: \u001b[m\u001b[Kdeclared here\n",
            "     __CUDA_DEPRECATED enum cudaMemoryType \u001b[01;36m\u001b[KmemoryType\u001b[m\u001b[K;\n",
            "                                           \u001b[01;36m\u001b[K^~~~~~~~~~\u001b[m\u001b[K\n",
            "\u001b[01m\u001b[K../nv_wavenet_conversions.cuh:41:50:\u001b[m\u001b[K \u001b[01;35m\u001b[Kwarning: \u001b[m\u001b[K‘\u001b[01m\u001b[KcudaPointerAttributes::memoryType\u001b[m\u001b[K’ is deprecated [\u001b[01;35m\u001b[K-Wdeprecated-declarations\u001b[m\u001b[K]\n",
            "     return (result == cudaSuccess) && (attributes\u001b[01;35m\u001b[K.memoryTyp\u001b[m\u001b[Ke == cudaMemoryTypeDevice);\n",
            "                                                  \u001b[01;35m\u001b[K^~~~~~~~~~\u001b[m\u001b[K\n",
            "In file included from \u001b[01m\u001b[K/usr/local/cuda/bin/../targets/x86_64-linux/include/builtin_types.h:59:0\u001b[m\u001b[K,\n",
            "                 from \u001b[01m\u001b[K/usr/local/cuda/bin/../targets/x86_64-linux/include/crt/host_runtime.h:58\u001b[m\u001b[K,\n",
            "                 from \u001b[01m\u001b[K/usr/lib/gcc/x86_64-linux-gnu/7/include/stddef.h:220\u001b[m\u001b[K:\n",
            "\u001b[01m\u001b[K/usr/local/cuda-10.1/targets/x86_64-linux/include/driver_types.h:1302:43:\u001b[m\u001b[K \u001b[01;36m\u001b[Knote: \u001b[m\u001b[Kdeclared here\n",
            "     __CUDA_DEPRECATED enum cudaMemoryType \u001b[01;36m\u001b[KmemoryType\u001b[m\u001b[K;\n",
            "                                           \u001b[01;36m\u001b[K^~~~~~~~~~\u001b[m\u001b[K\n",
            "\u001b[01m\u001b[K../nv_wavenet_conversions.cuh:41:50:\u001b[m\u001b[K \u001b[01;35m\u001b[Kwarning: \u001b[m\u001b[K‘\u001b[01m\u001b[KcudaPointerAttributes::memoryType\u001b[m\u001b[K’ is deprecated [\u001b[01;35m\u001b[K-Wdeprecated-declarations\u001b[m\u001b[K]\n",
            "     return (result == cudaSuccess) && (attributes\u001b[01;35m\u001b[K.memoryTyp\u001b[m\u001b[Ke == cudaMemoryTypeDevice);\n",
            "                                                  \u001b[01;35m\u001b[K^~~~~~~~~~\u001b[m\u001b[K\n",
            "In file included from \u001b[01m\u001b[K/usr/local/cuda/bin/../targets/x86_64-linux/include/builtin_types.h:59:0\u001b[m\u001b[K,\n",
            "                 from \u001b[01m\u001b[K/usr/local/cuda/bin/../targets/x86_64-linux/include/crt/host_runtime.h:58\u001b[m\u001b[K,\n",
            "                 from \u001b[01m\u001b[K/usr/lib/gcc/x86_64-linux-gnu/7/include/stddef.h:220\u001b[m\u001b[K:\n",
            "\u001b[01m\u001b[K/usr/local/cuda-10.1/targets/x86_64-linux/include/driver_types.h:1302:43:\u001b[m\u001b[K \u001b[01;36m\u001b[Knote: \u001b[m\u001b[Kdeclared here\n",
            "     __CUDA_DEPRECATED enum cudaMemoryType \u001b[01;36m\u001b[KmemoryType\u001b[m\u001b[K;\n",
            "                                           \u001b[01;36m\u001b[K^~~~~~~~~~\u001b[m\u001b[K\n",
            "running install\n",
            "running bdist_egg\n",
            "running egg_info\n",
            "creating nv_wavenet_ext.egg-info\n",
            "writing nv_wavenet_ext.egg-info/PKG-INFO\n",
            "writing dependency_links to nv_wavenet_ext.egg-info/dependency_links.txt\n",
            "writing top-level names to nv_wavenet_ext.egg-info/top_level.txt\n",
            "writing manifest file 'nv_wavenet_ext.egg-info/SOURCES.txt'\n",
            "/usr/local/lib/python3.7/dist-packages/torch/utils/cpp_extension.py:352: UserWarning: Attempted to use ninja as the BuildExtension backend but we could not find ninja.. Falling back to using the slow distutils backend.\n",
            "  warnings.warn(msg.format('we could not find ninja.'))\n",
            "writing manifest file 'nv_wavenet_ext.egg-info/SOURCES.txt'\n",
            "installing library code to build/bdist.linux-x86_64/egg\n",
            "running install_lib\n",
            "running build_ext\n",
            "building 'nv_wavenet_ext' extension\n",
            "creating build\n",
            "creating build/temp.linux-x86_64-3.7\n",
            "x86_64-linux-gnu-gcc -pthread -Wno-unused-result -Wsign-compare -DNDEBUG -g -fwrapv -O2 -Wall -g -fstack-protector-strong -Wformat -Werror=format-security -g -fwrapv -O2 -g -fstack-protector-strong -Wformat -Werror=format-security -Wdate-time -D_FORTIFY_SOURCE=2 -fPIC -I/content/drive/.shortcut-targets-by-id/11DSpJ8uf_FsSlducbKib9GkhVgyrO1i8/silent_speech/nv_wavenet/pytorch -I/usr/local/lib/python3.7/dist-packages/torch/include -I/usr/local/lib/python3.7/dist-packages/torch/include/torch/csrc/api/include -I/usr/local/lib/python3.7/dist-packages/torch/include/TH -I/usr/local/lib/python3.7/dist-packages/torch/include/THC -I/usr/local/cuda/include -I/usr/include/python3.7m -c wavenet_infer_wrapper.cpp -o build/temp.linux-x86_64-3.7/wavenet_infer_wrapper.o -DTORCH_API_INCLUDE_EXTENSION_H -DPYBIND11_COMPILER_TYPE=\"_gcc\" -DPYBIND11_STDLIB=\"_libstdcpp\" -DPYBIND11_BUILD_ABI=\"_cxxabi1011\" -DTORCH_EXTENSION_NAME=nv_wavenet_ext -D_GLIBCXX_USE_CXX11_ABI=0 -std=c++14\n",
            "In file included from \u001b[01m\u001b[K/usr/local/lib/python3.7/dist-packages/torch/include/ATen/Parallel.h:149:0\u001b[m\u001b[K,\n",
            "                 from \u001b[01m\u001b[K/usr/local/lib/python3.7/dist-packages/torch/include/TH/THTensorApply.h:4\u001b[m\u001b[K,\n",
            "                 from \u001b[01m\u001b[K/usr/local/lib/python3.7/dist-packages/torch/include/TH/THTensor.h:5\u001b[m\u001b[K,\n",
            "                 from \u001b[01m\u001b[K/usr/local/lib/python3.7/dist-packages/torch/include/THC/THCTensor.h:4\u001b[m\u001b[K,\n",
            "                 from \u001b[01m\u001b[K/usr/local/lib/python3.7/dist-packages/torch/include/THC/THC.h:13\u001b[m\u001b[K,\n",
            "                 from \u001b[01m\u001b[Kwavenet_infer_wrapper.cpp:28\u001b[m\u001b[K:\n",
            "\u001b[01m\u001b[K/usr/local/lib/python3.7/dist-packages/torch/include/ATen/ParallelOpenMP.h:84:0:\u001b[m\u001b[K \u001b[01;35m\u001b[Kwarning: \u001b[m\u001b[Kignoring #pragma omp parallel [\u001b[01;35m\u001b[K-Wunknown-pragmas\u001b[m\u001b[K]\n",
            " #pragma omp parallel for if ((end - begin) >= grain_size)\n",
            " \n",
            "\u001b[01m\u001b[Kwavenet_infer_wrapper.cpp:\u001b[m\u001b[K In function ‘\u001b[01m\u001b[Kint infer(at::Tensor, int, int, at::Tensor, at::Tensor, at::Tensor, at::Tensor, at::Tensor, int, int, int, int, std::vector<at::Tensor>&)\u001b[m\u001b[K’:\n",
            "\u001b[01m\u001b[Kwavenet_infer_wrapper.cpp:45:45:\u001b[m\u001b[K \u001b[01;35m\u001b[Kwarning: \u001b[m\u001b[K‘\u001b[01m\u001b[KT* at::Tensor::data() const [with T = int]\u001b[m\u001b[K’ is deprecated: Tensor.data<T>() is deprecated. Please use Tensor.data_ptr<T>() instead. [\u001b[01;35m\u001b[K-Wdeprecated-declarations\u001b[m\u001b[K]\n",
            "     int* samples = samples_tensor.data<int>(\u001b[01;35m\u001b[K)\u001b[m\u001b[K;\n",
            "                                             \u001b[01;35m\u001b[K^\u001b[m\u001b[K\n",
            "In file included from \u001b[01m\u001b[K/usr/local/lib/python3.7/dist-packages/torch/include/ATen/Tensor.h:3:0\u001b[m\u001b[K,\n",
            "                 from \u001b[01m\u001b[K/usr/local/lib/python3.7/dist-packages/torch/include/ATen/Context.h:4\u001b[m\u001b[K,\n",
            "                 from \u001b[01m\u001b[K/usr/local/lib/python3.7/dist-packages/torch/include/ATen/ATen.h:9\u001b[m\u001b[K,\n",
            "                 from \u001b[01m\u001b[K/usr/local/lib/python3.7/dist-packages/torch/include/ATen/Parallel.h:2\u001b[m\u001b[K,\n",
            "                 from \u001b[01m\u001b[K/usr/local/lib/python3.7/dist-packages/torch/include/TH/THTensorApply.h:4\u001b[m\u001b[K,\n",
            "                 from \u001b[01m\u001b[K/usr/local/lib/python3.7/dist-packages/torch/include/TH/THTensor.h:5\u001b[m\u001b[K,\n",
            "                 from \u001b[01m\u001b[K/usr/local/lib/python3.7/dist-packages/torch/include/THC/THCTensor.h:4\u001b[m\u001b[K,\n",
            "                 from \u001b[01m\u001b[K/usr/local/lib/python3.7/dist-packages/torch/include/THC/THC.h:13\u001b[m\u001b[K,\n",
            "                 from \u001b[01m\u001b[Kwavenet_infer_wrapper.cpp:28\u001b[m\u001b[K:\n",
            "\u001b[01m\u001b[K/usr/local/lib/python3.7/dist-packages/torch/include/ATen/core/TensorBody.h:363:7:\u001b[m\u001b[K \u001b[01;36m\u001b[Knote: \u001b[m\u001b[Kdeclared here\n",
            "   T * \u001b[01;36m\u001b[Kdata\u001b[m\u001b[K() const {\n",
            "       \u001b[01;36m\u001b[K^~~~\u001b[m\u001b[K\n",
            "\u001b[01m\u001b[Kwavenet_infer_wrapper.cpp:47:59:\u001b[m\u001b[K \u001b[01;35m\u001b[Kwarning: \u001b[m\u001b[K‘\u001b[01m\u001b[KT* at::Tensor::data() const [with T = float]\u001b[m\u001b[K’ is deprecated: Tensor.data<T>() is deprecated. Please use Tensor.data_ptr<T>() instead. [\u001b[01;35m\u001b[K-Wdeprecated-declarations\u001b[m\u001b[K]\n",
            "     float* embedding_prev = embed_prev_tensor.data<float>(\u001b[01;35m\u001b[K)\u001b[m\u001b[K;\n",
            "                                                           \u001b[01;35m\u001b[K^\u001b[m\u001b[K\n",
            "In file included from \u001b[01m\u001b[K/usr/local/lib/python3.7/dist-packages/torch/include/ATen/Tensor.h:3:0\u001b[m\u001b[K,\n",
            "                 from \u001b[01m\u001b[K/usr/local/lib/python3.7/dist-packages/torch/include/ATen/Context.h:4\u001b[m\u001b[K,\n",
            "                 from \u001b[01m\u001b[K/usr/local/lib/python3.7/dist-packages/torch/include/ATen/ATen.h:9\u001b[m\u001b[K,\n",
            "                 from \u001b[01m\u001b[K/usr/local/lib/python3.7/dist-packages/torch/include/ATen/Parallel.h:2\u001b[m\u001b[K,\n",
            "                 from \u001b[01m\u001b[K/usr/local/lib/python3.7/dist-packages/torch/include/TH/THTensorApply.h:4\u001b[m\u001b[K,\n",
            "                 from \u001b[01m\u001b[K/usr/local/lib/python3.7/dist-packages/torch/include/TH/THTensor.h:5\u001b[m\u001b[K,\n",
            "                 from \u001b[01m\u001b[K/usr/local/lib/python3.7/dist-packages/torch/include/THC/THCTensor.h:4\u001b[m\u001b[K,\n",
            "                 from \u001b[01m\u001b[K/usr/local/lib/python3.7/dist-packages/torch/include/THC/THC.h:13\u001b[m\u001b[K,\n",
            "                 from \u001b[01m\u001b[Kwavenet_infer_wrapper.cpp:28\u001b[m\u001b[K:\n",
            "\u001b[01m\u001b[K/usr/local/lib/python3.7/dist-packages/torch/include/ATen/core/TensorBody.h:363:7:\u001b[m\u001b[K \u001b[01;36m\u001b[Knote: \u001b[m\u001b[Kdeclared here\n",
            "   T * \u001b[01;36m\u001b[Kdata\u001b[m\u001b[K() const {\n",
            "       \u001b[01;36m\u001b[K^~~~\u001b[m\u001b[K\n",
            "\u001b[01m\u001b[Kwavenet_infer_wrapper.cpp:48:59:\u001b[m\u001b[K \u001b[01;35m\u001b[Kwarning: \u001b[m\u001b[K‘\u001b[01m\u001b[KT* at::Tensor::data() const [with T = float]\u001b[m\u001b[K’ is deprecated: Tensor.data<T>() is deprecated. Please use Tensor.data_ptr<T>() instead. [\u001b[01;35m\u001b[K-Wdeprecated-declarations\u001b[m\u001b[K]\n",
            "     float* embedding_curr = embed_curr_tensor.data<float>(\u001b[01;35m\u001b[K)\u001b[m\u001b[K;\n",
            "                                                           \u001b[01;35m\u001b[K^\u001b[m\u001b[K\n",
            "In file included from \u001b[01m\u001b[K/usr/local/lib/python3.7/dist-packages/torch/include/ATen/Tensor.h:3:0\u001b[m\u001b[K,\n",
            "                 from \u001b[01m\u001b[K/usr/local/lib/python3.7/dist-packages/torch/include/ATen/Context.h:4\u001b[m\u001b[K,\n",
            "                 from \u001b[01m\u001b[K/usr/local/lib/python3.7/dist-packages/torch/include/ATen/ATen.h:9\u001b[m\u001b[K,\n",
            "                 from \u001b[01m\u001b[K/usr/local/lib/python3.7/dist-packages/torch/include/ATen/Parallel.h:2\u001b[m\u001b[K,\n",
            "                 from \u001b[01m\u001b[K/usr/local/lib/python3.7/dist-packages/torch/include/TH/THTensorApply.h:4\u001b[m\u001b[K,\n",
            "                 from \u001b[01m\u001b[K/usr/local/lib/python3.7/dist-packages/torch/include/TH/THTensor.h:5\u001b[m\u001b[K,\n",
            "                 from \u001b[01m\u001b[K/usr/local/lib/python3.7/dist-packages/torch/include/THC/THCTensor.h:4\u001b[m\u001b[K,\n",
            "                 from \u001b[01m\u001b[K/usr/local/lib/python3.7/dist-packages/torch/include/THC/THC.h:13\u001b[m\u001b[K,\n",
            "                 from \u001b[01m\u001b[Kwavenet_infer_wrapper.cpp:28\u001b[m\u001b[K:\n",
            "\u001b[01m\u001b[K/usr/local/lib/python3.7/dist-packages/torch/include/ATen/core/TensorBody.h:363:7:\u001b[m\u001b[K \u001b[01;36m\u001b[Knote: \u001b[m\u001b[Kdeclared here\n",
            "   T * \u001b[01;36m\u001b[Kdata\u001b[m\u001b[K() const {\n",
            "       \u001b[01;36m\u001b[K^~~~\u001b[m\u001b[K\n",
            "\u001b[01m\u001b[Kwavenet_infer_wrapper.cpp:49:51:\u001b[m\u001b[K \u001b[01;35m\u001b[Kwarning: \u001b[m\u001b[K‘\u001b[01m\u001b[KT* at::Tensor::data() const [with T = float]\u001b[m\u001b[K’ is deprecated: Tensor.data<T>() is deprecated. Please use Tensor.data_ptr<T>() instead. [\u001b[01;35m\u001b[K-Wdeprecated-declarations\u001b[m\u001b[K]\n",
            "     float* conv_out = conv_out_tensor.data<float>(\u001b[01;35m\u001b[K)\u001b[m\u001b[K;\n",
            "                                                   \u001b[01;35m\u001b[K^\u001b[m\u001b[K\n",
            "In file included from \u001b[01m\u001b[K/usr/local/lib/python3.7/dist-packages/torch/include/ATen/Tensor.h:3:0\u001b[m\u001b[K,\n",
            "                 from \u001b[01m\u001b[K/usr/local/lib/python3.7/dist-packages/torch/include/ATen/Context.h:4\u001b[m\u001b[K,\n",
            "                 from \u001b[01m\u001b[K/usr/local/lib/python3.7/dist-packages/torch/include/ATen/ATen.h:9\u001b[m\u001b[K,\n",
            "                 from \u001b[01m\u001b[K/usr/local/lib/python3.7/dist-packages/torch/include/ATen/Parallel.h:2\u001b[m\u001b[K,\n",
            "                 from \u001b[01m\u001b[K/usr/local/lib/python3.7/dist-packages/torch/include/TH/THTensorApply.h:4\u001b[m\u001b[K,\n",
            "                 from \u001b[01m\u001b[K/usr/local/lib/python3.7/dist-packages/torch/include/TH/THTensor.h:5\u001b[m\u001b[K,\n",
            "                 from \u001b[01m\u001b[K/usr/local/lib/python3.7/dist-packages/torch/include/THC/THCTensor.h:4\u001b[m\u001b[K,\n",
            "                 from \u001b[01m\u001b[K/usr/local/lib/python3.7/dist-packages/torch/include/THC/THC.h:13\u001b[m\u001b[K,\n",
            "                 from \u001b[01m\u001b[Kwavenet_infer_wrapper.cpp:28\u001b[m\u001b[K:\n",
            "\u001b[01m\u001b[K/usr/local/lib/python3.7/dist-packages/torch/include/ATen/core/TensorBody.h:363:7:\u001b[m\u001b[K \u001b[01;36m\u001b[Knote: \u001b[m\u001b[Kdeclared here\n",
            "   T * \u001b[01;36m\u001b[Kdata\u001b[m\u001b[K() const {\n",
            "       \u001b[01;36m\u001b[K^~~~\u001b[m\u001b[K\n",
            "\u001b[01m\u001b[Kwavenet_infer_wrapper.cpp:50:51:\u001b[m\u001b[K \u001b[01;35m\u001b[Kwarning: \u001b[m\u001b[K‘\u001b[01m\u001b[KT* at::Tensor::data() const [with T = float]\u001b[m\u001b[K’ is deprecated: Tensor.data<T>() is deprecated. Please use Tensor.data_ptr<T>() instead. [\u001b[01;35m\u001b[K-Wdeprecated-declarations\u001b[m\u001b[K]\n",
            "     float* conv_end = conv_end_tensor.data<float>(\u001b[01;35m\u001b[K)\u001b[m\u001b[K;\n",
            "                                                   \u001b[01;35m\u001b[K^\u001b[m\u001b[K\n",
            "In file included from \u001b[01m\u001b[K/usr/local/lib/python3.7/dist-packages/torch/include/ATen/Tensor.h:3:0\u001b[m\u001b[K,\n",
            "                 from \u001b[01m\u001b[K/usr/local/lib/python3.7/dist-packages/torch/include/ATen/Context.h:4\u001b[m\u001b[K,\n",
            "                 from \u001b[01m\u001b[K/usr/local/lib/python3.7/dist-packages/torch/include/ATen/ATen.h:9\u001b[m\u001b[K,\n",
            "                 from \u001b[01m\u001b[K/usr/local/lib/python3.7/dist-packages/torch/include/ATen/Parallel.h:2\u001b[m\u001b[K,\n",
            "                 from \u001b[01m\u001b[K/usr/local/lib/python3.7/dist-packages/torch/include/TH/THTensorApply.h:4\u001b[m\u001b[K,\n",
            "                 from \u001b[01m\u001b[K/usr/local/lib/python3.7/dist-packages/torch/include/TH/THTensor.h:5\u001b[m\u001b[K,\n",
            "                 from \u001b[01m\u001b[K/usr/local/lib/python3.7/dist-packages/torch/include/THC/THCTensor.h:4\u001b[m\u001b[K,\n",
            "                 from \u001b[01m\u001b[K/usr/local/lib/python3.7/dist-packages/torch/include/THC/THC.h:13\u001b[m\u001b[K,\n",
            "                 from \u001b[01m\u001b[Kwavenet_infer_wrapper.cpp:28\u001b[m\u001b[K:\n",
            "\u001b[01m\u001b[K/usr/local/lib/python3.7/dist-packages/torch/include/ATen/core/TensorBody.h:363:7:\u001b[m\u001b[K \u001b[01;36m\u001b[Knote: \u001b[m\u001b[Kdeclared here\n",
            "   T * \u001b[01;36m\u001b[Kdata\u001b[m\u001b[K() const {\n",
            "       \u001b[01;36m\u001b[K^~~~\u001b[m\u001b[K\n",
            "\u001b[01m\u001b[Kwavenet_infer_wrapper.cpp:51:55:\u001b[m\u001b[K \u001b[01;35m\u001b[Kwarning: \u001b[m\u001b[K‘\u001b[01m\u001b[KT* at::Tensor::data() const [with T = float]\u001b[m\u001b[K’ is deprecated: Tensor.data<T>() is deprecated. Please use Tensor.data_ptr<T>() instead. [\u001b[01;35m\u001b[K-Wdeprecated-declarations\u001b[m\u001b[K]\n",
            "     float* cond_input = cond_input_tensor.data<float>(\u001b[01;35m\u001b[K)\u001b[m\u001b[K;\n",
            "                                                       \u001b[01;35m\u001b[K^\u001b[m\u001b[K\n",
            "In file included from \u001b[01m\u001b[K/usr/local/lib/python3.7/dist-packages/torch/include/ATen/Tensor.h:3:0\u001b[m\u001b[K,\n",
            "                 from \u001b[01m\u001b[K/usr/local/lib/python3.7/dist-packages/torch/include/ATen/Context.h:4\u001b[m\u001b[K,\n",
            "                 from \u001b[01m\u001b[K/usr/local/lib/python3.7/dist-packages/torch/include/ATen/ATen.h:9\u001b[m\u001b[K,\n",
            "                 from \u001b[01m\u001b[K/usr/local/lib/python3.7/dist-packages/torch/include/ATen/Parallel.h:2\u001b[m\u001b[K,\n",
            "                 from \u001b[01m\u001b[K/usr/local/lib/python3.7/dist-packages/torch/include/TH/THTensorApply.h:4\u001b[m\u001b[K,\n",
            "                 from \u001b[01m\u001b[K/usr/local/lib/python3.7/dist-packages/torch/include/TH/THTensor.h:5\u001b[m\u001b[K,\n",
            "                 from \u001b[01m\u001b[K/usr/local/lib/python3.7/dist-packages/torch/include/THC/THCTensor.h:4\u001b[m\u001b[K,\n",
            "                 from \u001b[01m\u001b[K/usr/local/lib/python3.7/dist-packages/torch/include/THC/THC.h:13\u001b[m\u001b[K,\n",
            "                 from \u001b[01m\u001b[Kwavenet_infer_wrapper.cpp:28\u001b[m\u001b[K:\n",
            "\u001b[01m\u001b[K/usr/local/lib/python3.7/dist-packages/torch/include/ATen/core/TensorBody.h:363:7:\u001b[m\u001b[K \u001b[01;36m\u001b[Knote: \u001b[m\u001b[Kdeclared here\n",
            "   T * \u001b[01;36m\u001b[Kdata\u001b[m\u001b[K() const {\n",
            "       \u001b[01;36m\u001b[K^~~~\u001b[m\u001b[K\n",
            "\u001b[01m\u001b[Kwavenet_infer_wrapper.cpp:62:53:\u001b[m\u001b[K \u001b[01;35m\u001b[Kwarning: \u001b[m\u001b[K‘\u001b[01m\u001b[KT* at::Tensor::data() const [with T = float]\u001b[m\u001b[K’ is deprecated: Tensor.data<T>() is deprecated. Please use Tensor.data_ptr<T>() instead. [\u001b[01;35m\u001b[K-Wdeprecated-declarations\u001b[m\u001b[K]\n",
            "  in_layer_weights_prev[i] = layers[idx].data<float>(\u001b[01;35m\u001b[K)\u001b[m\u001b[K;\n",
            "                                                     \u001b[01;35m\u001b[K^\u001b[m\u001b[K\n",
            "In file included from \u001b[01m\u001b[K/usr/local/lib/python3.7/dist-packages/torch/include/ATen/Tensor.h:3:0\u001b[m\u001b[K,\n",
            "                 from \u001b[01m\u001b[K/usr/local/lib/python3.7/dist-packages/torch/include/ATen/Context.h:4\u001b[m\u001b[K,\n",
            "                 from \u001b[01m\u001b[K/usr/local/lib/python3.7/dist-packages/torch/include/ATen/ATen.h:9\u001b[m\u001b[K,\n",
            "                 from \u001b[01m\u001b[K/usr/local/lib/python3.7/dist-packages/torch/include/ATen/Parallel.h:2\u001b[m\u001b[K,\n",
            "                 from \u001b[01m\u001b[K/usr/local/lib/python3.7/dist-packages/torch/include/TH/THTensorApply.h:4\u001b[m\u001b[K,\n",
            "                 from \u001b[01m\u001b[K/usr/local/lib/python3.7/dist-packages/torch/include/TH/THTensor.h:5\u001b[m\u001b[K,\n",
            "                 from \u001b[01m\u001b[K/usr/local/lib/python3.7/dist-packages/torch/include/THC/THCTensor.h:4\u001b[m\u001b[K,\n",
            "                 from \u001b[01m\u001b[K/usr/local/lib/python3.7/dist-packages/torch/include/THC/THC.h:13\u001b[m\u001b[K,\n",
            "                 from \u001b[01m\u001b[Kwavenet_infer_wrapper.cpp:28\u001b[m\u001b[K:\n",
            "\u001b[01m\u001b[K/usr/local/lib/python3.7/dist-packages/torch/include/ATen/core/TensorBody.h:363:7:\u001b[m\u001b[K \u001b[01;36m\u001b[Knote: \u001b[m\u001b[Kdeclared here\n",
            "   T * \u001b[01;36m\u001b[Kdata\u001b[m\u001b[K() const {\n",
            "       \u001b[01;36m\u001b[K^~~~\u001b[m\u001b[K\n",
            "\u001b[01m\u001b[Kwavenet_infer_wrapper.cpp:63:55:\u001b[m\u001b[K \u001b[01;35m\u001b[Kwarning: \u001b[m\u001b[K‘\u001b[01m\u001b[KT* at::Tensor::data() const [with T = float]\u001b[m\u001b[K’ is deprecated: Tensor.data<T>() is deprecated. Please use Tensor.data_ptr<T>() instead. [\u001b[01;35m\u001b[K-Wdeprecated-declarations\u001b[m\u001b[K]\n",
            "  in_layer_weights_curr[i] = layers[idx+1].data<float>(\u001b[01;35m\u001b[K)\u001b[m\u001b[K;\n",
            "                                                       \u001b[01;35m\u001b[K^\u001b[m\u001b[K\n",
            "In file included from \u001b[01m\u001b[K/usr/local/lib/python3.7/dist-packages/torch/include/ATen/Tensor.h:3:0\u001b[m\u001b[K,\n",
            "                 from \u001b[01m\u001b[K/usr/local/lib/python3.7/dist-packages/torch/include/ATen/Context.h:4\u001b[m\u001b[K,\n",
            "                 from \u001b[01m\u001b[K/usr/local/lib/python3.7/dist-packages/torch/include/ATen/ATen.h:9\u001b[m\u001b[K,\n",
            "                 from \u001b[01m\u001b[K/usr/local/lib/python3.7/dist-packages/torch/include/ATen/Parallel.h:2\u001b[m\u001b[K,\n",
            "                 from \u001b[01m\u001b[K/usr/local/lib/python3.7/dist-packages/torch/include/TH/THTensorApply.h:4\u001b[m\u001b[K,\n",
            "                 from \u001b[01m\u001b[K/usr/local/lib/python3.7/dist-packages/torch/include/TH/THTensor.h:5\u001b[m\u001b[K,\n",
            "                 from \u001b[01m\u001b[K/usr/local/lib/python3.7/dist-packages/torch/include/THC/THCTensor.h:4\u001b[m\u001b[K,\n",
            "                 from \u001b[01m\u001b[K/usr/local/lib/python3.7/dist-packages/torch/include/THC/THC.h:13\u001b[m\u001b[K,\n",
            "                 from \u001b[01m\u001b[Kwavenet_infer_wrapper.cpp:28\u001b[m\u001b[K:\n",
            "\u001b[01m\u001b[K/usr/local/lib/python3.7/dist-packages/torch/include/ATen/core/TensorBody.h:363:7:\u001b[m\u001b[K \u001b[01;36m\u001b[Knote: \u001b[m\u001b[Kdeclared here\n",
            "   T * \u001b[01;36m\u001b[Kdata\u001b[m\u001b[K() const {\n",
            "       \u001b[01;36m\u001b[K^~~~\u001b[m\u001b[K\n",
            "\u001b[01m\u001b[Kwavenet_infer_wrapper.cpp:64:49:\u001b[m\u001b[K \u001b[01;35m\u001b[Kwarning: \u001b[m\u001b[K‘\u001b[01m\u001b[KT* at::Tensor::data() const [with T = float]\u001b[m\u001b[K’ is deprecated: Tensor.data<T>() is deprecated. Please use Tensor.data_ptr<T>() instead. [\u001b[01;35m\u001b[K-Wdeprecated-declarations\u001b[m\u001b[K]\n",
            "  in_layer_biases[i] = layers[idx+2].data<float>(\u001b[01;35m\u001b[K)\u001b[m\u001b[K;\n",
            "                                                 \u001b[01;35m\u001b[K^\u001b[m\u001b[K\n",
            "In file included from \u001b[01m\u001b[K/usr/local/lib/python3.7/dist-packages/torch/include/ATen/Tensor.h:3:0\u001b[m\u001b[K,\n",
            "                 from \u001b[01m\u001b[K/usr/local/lib/python3.7/dist-packages/torch/include/ATen/Context.h:4\u001b[m\u001b[K,\n",
            "                 from \u001b[01m\u001b[K/usr/local/lib/python3.7/dist-packages/torch/include/ATen/ATen.h:9\u001b[m\u001b[K,\n",
            "                 from \u001b[01m\u001b[K/usr/local/lib/python3.7/dist-packages/torch/include/ATen/Parallel.h:2\u001b[m\u001b[K,\n",
            "                 from \u001b[01m\u001b[K/usr/local/lib/python3.7/dist-packages/torch/include/TH/THTensorApply.h:4\u001b[m\u001b[K,\n",
            "                 from \u001b[01m\u001b[K/usr/local/lib/python3.7/dist-packages/torch/include/TH/THTensor.h:5\u001b[m\u001b[K,\n",
            "                 from \u001b[01m\u001b[K/usr/local/lib/python3.7/dist-packages/torch/include/THC/THCTensor.h:4\u001b[m\u001b[K,\n",
            "                 from \u001b[01m\u001b[K/usr/local/lib/python3.7/dist-packages/torch/include/THC/THC.h:13\u001b[m\u001b[K,\n",
            "                 from \u001b[01m\u001b[Kwavenet_infer_wrapper.cpp:28\u001b[m\u001b[K:\n",
            "\u001b[01m\u001b[K/usr/local/lib/python3.7/dist-packages/torch/include/ATen/core/TensorBody.h:363:7:\u001b[m\u001b[K \u001b[01;36m\u001b[Knote: \u001b[m\u001b[Kdeclared here\n",
            "   T * \u001b[01;36m\u001b[Kdata\u001b[m\u001b[K() const {\n",
            "       \u001b[01;36m\u001b[K^~~~\u001b[m\u001b[K\n",
            "\u001b[01m\u001b[Kwavenet_infer_wrapper.cpp:65:51:\u001b[m\u001b[K \u001b[01;35m\u001b[Kwarning: \u001b[m\u001b[K‘\u001b[01m\u001b[KT* at::Tensor::data() const [with T = float]\u001b[m\u001b[K’ is deprecated: Tensor.data<T>() is deprecated. Please use Tensor.data_ptr<T>() instead. [\u001b[01;35m\u001b[K-Wdeprecated-declarations\u001b[m\u001b[K]\n",
            "  res_layer_weights[i] = layers[idx+3].data<float>(\u001b[01;35m\u001b[K)\u001b[m\u001b[K;\n",
            "                                                   \u001b[01;35m\u001b[K^\u001b[m\u001b[K\n",
            "In file included from \u001b[01m\u001b[K/usr/local/lib/python3.7/dist-packages/torch/include/ATen/Tensor.h:3:0\u001b[m\u001b[K,\n",
            "                 from \u001b[01m\u001b[K/usr/local/lib/python3.7/dist-packages/torch/include/ATen/Context.h:4\u001b[m\u001b[K,\n",
            "                 from \u001b[01m\u001b[K/usr/local/lib/python3.7/dist-packages/torch/include/ATen/ATen.h:9\u001b[m\u001b[K,\n",
            "                 from \u001b[01m\u001b[K/usr/local/lib/python3.7/dist-packages/torch/include/ATen/Parallel.h:2\u001b[m\u001b[K,\n",
            "                 from \u001b[01m\u001b[K/usr/local/lib/python3.7/dist-packages/torch/include/TH/THTensorApply.h:4\u001b[m\u001b[K,\n",
            "                 from \u001b[01m\u001b[K/usr/local/lib/python3.7/dist-packages/torch/include/TH/THTensor.h:5\u001b[m\u001b[K,\n",
            "                 from \u001b[01m\u001b[K/usr/local/lib/python3.7/dist-packages/torch/include/THC/THCTensor.h:4\u001b[m\u001b[K,\n",
            "                 from \u001b[01m\u001b[K/usr/local/lib/python3.7/dist-packages/torch/include/THC/THC.h:13\u001b[m\u001b[K,\n",
            "                 from \u001b[01m\u001b[Kwavenet_infer_wrapper.cpp:28\u001b[m\u001b[K:\n",
            "\u001b[01m\u001b[K/usr/local/lib/python3.7/dist-packages/torch/include/ATen/core/TensorBody.h:363:7:\u001b[m\u001b[K \u001b[01;36m\u001b[Knote: \u001b[m\u001b[Kdeclared here\n",
            "   T * \u001b[01;36m\u001b[Kdata\u001b[m\u001b[K() const {\n",
            "       \u001b[01;36m\u001b[K^~~~\u001b[m\u001b[K\n",
            "\u001b[01m\u001b[Kwavenet_infer_wrapper.cpp:66:50:\u001b[m\u001b[K \u001b[01;35m\u001b[Kwarning: \u001b[m\u001b[K‘\u001b[01m\u001b[KT* at::Tensor::data() const [with T = float]\u001b[m\u001b[K’ is deprecated: Tensor.data<T>() is deprecated. Please use Tensor.data_ptr<T>() instead. [\u001b[01;35m\u001b[K-Wdeprecated-declarations\u001b[m\u001b[K]\n",
            "  res_layer_biases[i] = layers[idx+4].data<float>(\u001b[01;35m\u001b[K)\u001b[m\u001b[K;\n",
            "                                                  \u001b[01;35m\u001b[K^\u001b[m\u001b[K\n",
            "In file included from \u001b[01m\u001b[K/usr/local/lib/python3.7/dist-packages/torch/include/ATen/Tensor.h:3:0\u001b[m\u001b[K,\n",
            "                 from \u001b[01m\u001b[K/usr/local/lib/python3.7/dist-packages/torch/include/ATen/Context.h:4\u001b[m\u001b[K,\n",
            "                 from \u001b[01m\u001b[K/usr/local/lib/python3.7/dist-packages/torch/include/ATen/ATen.h:9\u001b[m\u001b[K,\n",
            "                 from \u001b[01m\u001b[K/usr/local/lib/python3.7/dist-packages/torch/include/ATen/Parallel.h:2\u001b[m\u001b[K,\n",
            "                 from \u001b[01m\u001b[K/usr/local/lib/python3.7/dist-packages/torch/include/TH/THTensorApply.h:4\u001b[m\u001b[K,\n",
            "                 from \u001b[01m\u001b[K/usr/local/lib/python3.7/dist-packages/torch/include/TH/THTensor.h:5\u001b[m\u001b[K,\n",
            "                 from \u001b[01m\u001b[K/usr/local/lib/python3.7/dist-packages/torch/include/THC/THCTensor.h:4\u001b[m\u001b[K,\n",
            "                 from \u001b[01m\u001b[K/usr/local/lib/python3.7/dist-packages/torch/include/THC/THC.h:13\u001b[m\u001b[K,\n",
            "                 from \u001b[01m\u001b[Kwavenet_infer_wrapper.cpp:28\u001b[m\u001b[K:\n",
            "\u001b[01m\u001b[K/usr/local/lib/python3.7/dist-packages/torch/include/ATen/core/TensorBody.h:363:7:\u001b[m\u001b[K \u001b[01;36m\u001b[Knote: \u001b[m\u001b[Kdeclared here\n",
            "   T * \u001b[01;36m\u001b[Kdata\u001b[m\u001b[K() const {\n",
            "       \u001b[01;36m\u001b[K^~~~\u001b[m\u001b[K\n",
            "\u001b[01m\u001b[Kwavenet_infer_wrapper.cpp:67:52:\u001b[m\u001b[K \u001b[01;35m\u001b[Kwarning: \u001b[m\u001b[K‘\u001b[01m\u001b[KT* at::Tensor::data() const [with T = float]\u001b[m\u001b[K’ is deprecated: Tensor.data<T>() is deprecated. Please use Tensor.data_ptr<T>() instead. [\u001b[01;35m\u001b[K-Wdeprecated-declarations\u001b[m\u001b[K]\n",
            "  skip_layer_weights[i] = layers[idx+5].data<float>(\u001b[01;35m\u001b[K)\u001b[m\u001b[K;\n",
            "                                                    \u001b[01;35m\u001b[K^\u001b[m\u001b[K\n",
            "In file included from \u001b[01m\u001b[K/usr/local/lib/python3.7/dist-packages/torch/include/ATen/Tensor.h:3:0\u001b[m\u001b[K,\n",
            "                 from \u001b[01m\u001b[K/usr/local/lib/python3.7/dist-packages/torch/include/ATen/Context.h:4\u001b[m\u001b[K,\n",
            "                 from \u001b[01m\u001b[K/usr/local/lib/python3.7/dist-packages/torch/include/ATen/ATen.h:9\u001b[m\u001b[K,\n",
            "                 from \u001b[01m\u001b[K/usr/local/lib/python3.7/dist-packages/torch/include/ATen/Parallel.h:2\u001b[m\u001b[K,\n",
            "                 from \u001b[01m\u001b[K/usr/local/lib/python3.7/dist-packages/torch/include/TH/THTensorApply.h:4\u001b[m\u001b[K,\n",
            "                 from \u001b[01m\u001b[K/usr/local/lib/python3.7/dist-packages/torch/include/TH/THTensor.h:5\u001b[m\u001b[K,\n",
            "                 from \u001b[01m\u001b[K/usr/local/lib/python3.7/dist-packages/torch/include/THC/THCTensor.h:4\u001b[m\u001b[K,\n",
            "                 from \u001b[01m\u001b[K/usr/local/lib/python3.7/dist-packages/torch/include/THC/THC.h:13\u001b[m\u001b[K,\n",
            "                 from \u001b[01m\u001b[Kwavenet_infer_wrapper.cpp:28\u001b[m\u001b[K:\n",
            "\u001b[01m\u001b[K/usr/local/lib/python3.7/dist-packages/torch/include/ATen/core/TensorBody.h:363:7:\u001b[m\u001b[K \u001b[01;36m\u001b[Knote: \u001b[m\u001b[Kdeclared here\n",
            "   T * \u001b[01;36m\u001b[Kdata\u001b[m\u001b[K() const {\n",
            "       \u001b[01;36m\u001b[K^~~~\u001b[m\u001b[K\n",
            "\u001b[01m\u001b[Kwavenet_infer_wrapper.cpp:68:51:\u001b[m\u001b[K \u001b[01;35m\u001b[Kwarning: \u001b[m\u001b[K‘\u001b[01m\u001b[KT* at::Tensor::data() const [with T = float]\u001b[m\u001b[K’ is deprecated: Tensor.data<T>() is deprecated. Please use Tensor.data_ptr<T>() instead. [\u001b[01;35m\u001b[K-Wdeprecated-declarations\u001b[m\u001b[K]\n",
            "  skip_layer_biases[i] = layers[idx+6].data<float>(\u001b[01;35m\u001b[K)\u001b[m\u001b[K;\n",
            "                                                   \u001b[01;35m\u001b[K^\u001b[m\u001b[K\n",
            "In file included from \u001b[01m\u001b[K/usr/local/lib/python3.7/dist-packages/torch/include/ATen/Tensor.h:3:0\u001b[m\u001b[K,\n",
            "                 from \u001b[01m\u001b[K/usr/local/lib/python3.7/dist-packages/torch/include/ATen/Context.h:4\u001b[m\u001b[K,\n",
            "                 from \u001b[01m\u001b[K/usr/local/lib/python3.7/dist-packages/torch/include/ATen/ATen.h:9\u001b[m\u001b[K,\n",
            "                 from \u001b[01m\u001b[K/usr/local/lib/python3.7/dist-packages/torch/include/ATen/Parallel.h:2\u001b[m\u001b[K,\n",
            "                 from \u001b[01m\u001b[K/usr/local/lib/python3.7/dist-packages/torch/include/TH/THTensorApply.h:4\u001b[m\u001b[K,\n",
            "                 from \u001b[01m\u001b[K/usr/local/lib/python3.7/dist-packages/torch/include/TH/THTensor.h:5\u001b[m\u001b[K,\n",
            "                 from \u001b[01m\u001b[K/usr/local/lib/python3.7/dist-packages/torch/include/THC/THCTensor.h:4\u001b[m\u001b[K,\n",
            "                 from \u001b[01m\u001b[K/usr/local/lib/python3.7/dist-packages/torch/include/THC/THC.h:13\u001b[m\u001b[K,\n",
            "                 from \u001b[01m\u001b[Kwavenet_infer_wrapper.cpp:28\u001b[m\u001b[K:\n",
            "\u001b[01m\u001b[K/usr/local/lib/python3.7/dist-packages/torch/include/ATen/core/TensorBody.h:363:7:\u001b[m\u001b[K \u001b[01;36m\u001b[Knote: \u001b[m\u001b[Kdeclared here\n",
            "   T * \u001b[01;36m\u001b[Kdata\u001b[m\u001b[K() const {\n",
            "       \u001b[01;36m\u001b[K^~~~\u001b[m\u001b[K\n",
            "creating build/lib.linux-x86_64-3.7\n",
            "x86_64-linux-gnu-g++ -pthread -shared -Wl,-O1 -Wl,-Bsymbolic-functions -Wl,-Bsymbolic-functions -g -fwrapv -O2 -Wl,-Bsymbolic-functions -g -fwrapv -O2 -g -fstack-protector-strong -Wformat -Werror=format-security -Wdate-time -D_FORTIFY_SOURCE=2 build/temp.linux-x86_64-3.7/wavenet_infer_wrapper.o -L/content/drive/.shortcut-targets-by-id/11DSpJ8uf_FsSlducbKib9GkhVgyrO1i8/silent_speech/nv_wavenet/pytorch -L/usr/local/lib/python3.7/dist-packages/torch/lib -L/usr/local/cuda/lib64 -Wl,--enable-new-dtags,-R/content/drive/.shortcut-targets-by-id/11DSpJ8uf_FsSlducbKib9GkhVgyrO1i8/silent_speech/nv_wavenet/pytorch -Wl,--enable-new-dtags,-R/usr/local/lib/python3.7/dist-packages/torch/lib -Wl,--enable-new-dtags,-R/usr/local/cuda/lib64 -lwavenet_infer -lc10 -ltorch -ltorch_cpu -ltorch_python -lcudart -lc10_cuda -ltorch_cuda -o build/lib.linux-x86_64-3.7/nv_wavenet_ext.cpython-37m-x86_64-linux-gnu.so\n",
            "creating build/bdist.linux-x86_64\n",
            "creating build/bdist.linux-x86_64/egg\n",
            "copying build/lib.linux-x86_64-3.7/nv_wavenet_ext.cpython-37m-x86_64-linux-gnu.so -> build/bdist.linux-x86_64/egg\n",
            "creating stub loader for nv_wavenet_ext.cpython-37m-x86_64-linux-gnu.so\n",
            "byte-compiling build/bdist.linux-x86_64/egg/nv_wavenet_ext.py to nv_wavenet_ext.cpython-37.pyc\n",
            "creating build/bdist.linux-x86_64/egg/EGG-INFO\n",
            "copying nv_wavenet_ext.egg-info/PKG-INFO -> build/bdist.linux-x86_64/egg/EGG-INFO\n",
            "copying nv_wavenet_ext.egg-info/SOURCES.txt -> build/bdist.linux-x86_64/egg/EGG-INFO\n",
            "copying nv_wavenet_ext.egg-info/dependency_links.txt -> build/bdist.linux-x86_64/egg/EGG-INFO\n",
            "copying nv_wavenet_ext.egg-info/top_level.txt -> build/bdist.linux-x86_64/egg/EGG-INFO\n",
            "writing build/bdist.linux-x86_64/egg/EGG-INFO/native_libs.txt\n",
            "zip_safe flag not set; analyzing archive contents...\n",
            "__pycache__.nv_wavenet_ext.cpython-37: module references __file__\n",
            "creating dist\n",
            "creating 'dist/nv_wavenet_ext-0.0.0-py3.7-linux-x86_64.egg' and adding 'build/bdist.linux-x86_64/egg' to it\n",
            "removing 'build/bdist.linux-x86_64/egg' (and everything under it)\n",
            "Processing nv_wavenet_ext-0.0.0-py3.7-linux-x86_64.egg\n",
            "creating /usr/local/lib/python3.7/dist-packages/nv_wavenet_ext-0.0.0-py3.7-linux-x86_64.egg\n",
            "Extracting nv_wavenet_ext-0.0.0-py3.7-linux-x86_64.egg to /usr/local/lib/python3.7/dist-packages\n",
            "Adding nv-wavenet-ext 0.0.0 to easy-install.pth file\n",
            "\n",
            "Installed /usr/local/lib/python3.7/dist-packages/nv_wavenet_ext-0.0.0-py3.7-linux-x86_64.egg\n",
            "Processing dependencies for nv-wavenet-ext==0.0.0\n",
            "Finished processing dependencies for nv-wavenet-ext==0.0.0\n",
            "/content/drive/.shortcut-targets-by-id/11DSpJ8uf_FsSlducbKib9GkhVgyrO1i8/silent_speech\n"
          ]
        }
      ]
    },
    {
      "cell_type": "code",
      "source": [
        "def download_file_from_google_drive(file_id,dest_path):\n",
        " import os.path\n",
        " while not os.path.exists(dest_path):\n",
        "  !mkdir -p $(dirname {dest_path})\n",
        "  !wget --save-cookies cookies.txt 'https://docs.google.com/uc?export=download&id='{file_id} -O- | sed -rn 's/.*confirm=([0-9A-Za-z_]+).*/\\1/p' > confirm.txt\n",
        "  import os\n",
        "  if os.path.getsize(\"confirm.txt\")==0:\n",
        "    !wget -O {dest_path} 'https://docs.google.com/uc?export=download&id='{file_id}\n",
        "  else:\n",
        "    !wget --load-cookies cookies.txt -O {dest_path} 'https://docs.google.com/uc?export=download&id='{file_id}'&confirm='$(<confirm.txt)\n",
        "  if os.path.getsize(dest_path)==0:\n",
        "    !rm {dest_path}"
      ],
      "metadata": {
        "id": "DtEREwR1i0q2"
      },
      "execution_count": null,
      "outputs": []
    },
    {
      "cell_type": "code",
      "source": [
        "files_path=[]\n",
        "files_path = [['178ykeLIJzmvtSIkekcg2Um7UNihXytxd', '/content/drive/MyDrive/silent_speech/emg_data.tar.gz']]\n",
        "for i in range(len(files_path)):\n",
        "  download_file_from_google_drive(file_id=files_path[i][0], dest_path=files_path[i][1])\n"
      ],
      "metadata": {
        "colab": {
          "base_uri": "https://localhost:8080/"
        },
        "id": "IoUXpEydi4N9",
        "outputId": "5ceafbb7-2a10-4571-c53e-a38f5b185957"
      },
      "execution_count": null,
      "outputs": [
        {
          "output_type": "stream",
          "name": "stdout",
          "text": [
            "--2022-05-07 08:04:55--  https://docs.google.com/uc?export=download&id=178ykeLIJzmvtSIkekcg2Um7UNihXytxd\n",
            "Resolving docs.google.com (docs.google.com)... 172.217.194.113, 172.217.194.100, 172.217.194.102, ...\n",
            "Connecting to docs.google.com (docs.google.com)|172.217.194.113|:443... connected.\n",
            "HTTP request sent, awaiting response... 200 OK\n",
            "Length: unspecified [text/html]\n",
            "Saving to: ‘STDOUT’\n",
            "\n",
            "-                       [ <=>                ]   2.17K  --.-KB/s    in 0s      \n",
            "\n",
            "2022-05-07 08:04:55 (48.0 MB/s) - written to stdout [2219]\n",
            "\n",
            "--2022-05-07 08:04:55--  https://docs.google.com/uc?export=download&id=178ykeLIJzmvtSIkekcg2Um7UNihXytxd&confirm=t\n",
            "Resolving docs.google.com (docs.google.com)... 142.251.12.100, 142.251.12.113, 142.251.12.138, ...\n",
            "Connecting to docs.google.com (docs.google.com)|142.251.12.100|:443... connected.\n",
            "HTTP request sent, awaiting response... 303 See Other\n",
            "Location: https://doc-0c-ac-docs.googleusercontent.com/docs/securesc/ha0ro937gcuc7l7deffksulhg5h7mbp1/rb3kgg82s1q45glulmca0n6edlcikp5p/1651910625000/16859841585483076424/*/178ykeLIJzmvtSIkekcg2Um7UNihXytxd?e=download [following]\n",
            "Warning: wildcards not supported in HTTP.\n",
            "--2022-05-07 08:04:56--  https://doc-0c-ac-docs.googleusercontent.com/docs/securesc/ha0ro937gcuc7l7deffksulhg5h7mbp1/rb3kgg82s1q45glulmca0n6edlcikp5p/1651910625000/16859841585483076424/*/178ykeLIJzmvtSIkekcg2Um7UNihXytxd?e=download\n",
            "Resolving doc-0c-ac-docs.googleusercontent.com (doc-0c-ac-docs.googleusercontent.com)... 142.250.4.132, 2404:6800:4003:c06::84\n",
            "Connecting to doc-0c-ac-docs.googleusercontent.com (doc-0c-ac-docs.googleusercontent.com)|142.250.4.132|:443... connected.\n",
            "HTTP request sent, awaiting response... 200 OK\n",
            "Length: 3919507637 (3.6G) [application/x-gzip]\n",
            "Saving to: ‘/content/drive/MyDrive/silent_speech/emg_data.tar.gz’\n",
            "\n",
            "/content/drive/MyDr 100%[===================>]   3.65G  76.6MB/s    in 62s     \n",
            "\n",
            "2022-05-07 08:05:58 (60.6 MB/s) - ‘/content/drive/MyDrive/silent_speech/emg_data.tar.gz’ saved [3919507637/3919507637]\n",
            "\n"
          ]
        }
      ]
    },
    {
      "cell_type": "code",
      "source": [
        "!pip install torch==1.7.1\n",
        "import os\n",
        "if os.path.isdir(\"/content/drive/MyDrive/silent_speech\"):\n",
        "    %cd \"/content/drive/MyDrive/silent_speech\"\n",
        "    if not os.path.isdir(\"/content/emg_data\"):\n",
        "      !tar -xzf /content/drive/MyDrive/silent_speech/emg_data.tar.gz -C /content\n",
        "    if not os.path.isdir(\"/content/text_alignments\"):\n",
        "      !tar -xzf /content/drive/MyDrive/silent_speech/text_alignments.tar.gz -C /content\n",
        "    %cd /content/drive/MyDrive/silent_speech/nv_wavenet/pytorch\n",
        "    !python build.py install      \n",
        "    %cd /content/drive/MyDrive/silent_speech\n",
        "else:\n",
        "    #install script\n",
        "    %cd \"/content/drive/MyDrive/\"\n",
        "    !git clone https://github.com/dgaddy/silent_speech.git\n",
        "    %cd \"/content/drive/MyDrive/silent_speech\"\n",
        "    !wget https://zenodo.org/record/4064409/files/emg_data.tar.gz?download=1 -O emg_data.tar.gz\n",
        "    !tar -xzf /content/drive/MyDrive/silent_speech/emg_data.tar.gz -C /content\n",
        "    #!ln -s /content/emg_data ./emg_data\n",
        "    !wget https://github.com/dgaddy/silent_speech_alignments/raw/main/text_alignments.tar.gz\n",
        "    !tar -xzf /content/drive/MyDrive/silent_speech/text_alignments.tar.gz -C /content\n",
        "    #!ln -s /content/text_alignments ./text_alignments\n",
        "    !git clone https://github.com/NVIDIA/nv-wavenet.git nv_wavenet\n",
        "    !git clone https://github.com/hubertsiuzdak/voice-conversion.git voice-conversion\n",
        "    %cp -TRv voice-conversion/nv_wavenet nv_wavenet/\n",
        "    %cd /content/drive/MyDrive/silent_speech/nv_wavenet/pytorch\n",
        "    if 'Tesla K80' in str(device_lib.list_local_devices()[1]):\n",
        "      !sed -i 's/ARCH=sm_70/ARCH=sm_37/' ./Makefile\n",
        "    else:\n",
        "      !sed -i 's/ARCH=sm_37/ARCH=sm_70/' ./Makefile\n",
        "    !rm -rf /usr/local/cuda\n",
        "    !ln -s /usr/local/cuda-10.1 /usr/local/cuda\n",
        "    #!ln -s /usr/local/cuda-11.2 /usr/local/cuda\n",
        "    !make \n",
        "    !python build.py install\n",
        "    %cd /content/drive/MyDrive/silent_speech\n",
        "    !curl -LO https://github.com/mozilla/DeepSpeech/releases/download/v0.7.0/deepspeech-0.7.0-models.pbmm\n",
        "    !curl -LO https://github.com/mozilla/DeepSpeech/releases/download/v0.7.0/deepspeech-0.7.0-models.scorer\n"
      ],
      "metadata": {
        "colab": {
          "base_uri": "https://localhost:8080/"
        },
        "id": "ZwddtnwLqTl5",
        "outputId": "d50e5916-9830-4e29-c963-2cba33cb7487"
      },
      "execution_count": 5,
      "outputs": [
        {
          "output_type": "stream",
          "name": "stdout",
          "text": [
            "Requirement already satisfied: torch==1.7.1 in /usr/local/lib/python3.7/dist-packages (1.7.1)\n",
            "Requirement already satisfied: numpy in /usr/local/lib/python3.7/dist-packages (from torch==1.7.1) (1.21.6)\n",
            "Requirement already satisfied: typing-extensions in /usr/local/lib/python3.7/dist-packages (from torch==1.7.1) (4.2.0)\n",
            "/content/drive/.shortcut-targets-by-id/11DSpJ8uf_FsSlducbKib9GkhVgyrO1i8/silent_speech\n",
            "/content/drive/.shortcut-targets-by-id/11DSpJ8uf_FsSlducbKib9GkhVgyrO1i8/silent_speech/nv_wavenet/pytorch\n",
            "running install\n",
            "running bdist_egg\n",
            "running egg_info\n",
            "writing nv_wavenet_ext.egg-info/PKG-INFO\n",
            "writing dependency_links to nv_wavenet_ext.egg-info/dependency_links.txt\n",
            "writing top-level names to nv_wavenet_ext.egg-info/top_level.txt\n",
            "/usr/local/lib/python3.7/dist-packages/torch/utils/cpp_extension.py:352: UserWarning: Attempted to use ninja as the BuildExtension backend but we could not find ninja.. Falling back to using the slow distutils backend.\n",
            "  warnings.warn(msg.format('we could not find ninja.'))\n",
            "writing manifest file 'nv_wavenet_ext.egg-info/SOURCES.txt'\n",
            "installing library code to build/bdist.linux-x86_64/egg\n",
            "running install_lib\n",
            "running build_ext\n",
            "creating build/bdist.linux-x86_64/egg\n",
            "copying build/lib.linux-x86_64-3.7/nv_wavenet_ext.cpython-37m-x86_64-linux-gnu.so -> build/bdist.linux-x86_64/egg\n",
            "creating stub loader for nv_wavenet_ext.cpython-37m-x86_64-linux-gnu.so\n",
            "byte-compiling build/bdist.linux-x86_64/egg/nv_wavenet_ext.py to nv_wavenet_ext.cpython-37.pyc\n",
            "creating build/bdist.linux-x86_64/egg/EGG-INFO\n",
            "copying nv_wavenet_ext.egg-info/PKG-INFO -> build/bdist.linux-x86_64/egg/EGG-INFO\n",
            "copying nv_wavenet_ext.egg-info/SOURCES.txt -> build/bdist.linux-x86_64/egg/EGG-INFO\n",
            "copying nv_wavenet_ext.egg-info/dependency_links.txt -> build/bdist.linux-x86_64/egg/EGG-INFO\n",
            "copying nv_wavenet_ext.egg-info/top_level.txt -> build/bdist.linux-x86_64/egg/EGG-INFO\n",
            "writing build/bdist.linux-x86_64/egg/EGG-INFO/native_libs.txt\n",
            "zip_safe flag not set; analyzing archive contents...\n",
            "__pycache__.nv_wavenet_ext.cpython-37: module references __file__\n",
            "creating 'dist/nv_wavenet_ext-0.0.0-py3.7-linux-x86_64.egg' and adding 'build/bdist.linux-x86_64/egg' to it\n",
            "removing 'build/bdist.linux-x86_64/egg' (and everything under it)\n",
            "Processing nv_wavenet_ext-0.0.0-py3.7-linux-x86_64.egg\n",
            "removing '/usr/local/lib/python3.7/dist-packages/nv_wavenet_ext-0.0.0-py3.7-linux-x86_64.egg' (and everything under it)\n",
            "creating /usr/local/lib/python3.7/dist-packages/nv_wavenet_ext-0.0.0-py3.7-linux-x86_64.egg\n",
            "Extracting nv_wavenet_ext-0.0.0-py3.7-linux-x86_64.egg to /usr/local/lib/python3.7/dist-packages\n",
            "nv-wavenet-ext 0.0.0 is already the active version in easy-install.pth\n",
            "\n",
            "Installed /usr/local/lib/python3.7/dist-packages/nv_wavenet_ext-0.0.0-py3.7-linux-x86_64.egg\n",
            "Processing dependencies for nv-wavenet-ext==0.0.0\n",
            "Finished processing dependencies for nv-wavenet-ext==0.0.0\n",
            "/content/drive/.shortcut-targets-by-id/11DSpJ8uf_FsSlducbKib9GkhVgyrO1i8/silent_speech\n"
          ]
        }
      ]
    },
    {
      "cell_type": "markdown",
      "source": [
        "# Environment Setup"
      ],
      "metadata": {
        "id": "I9F1MccM3BAH"
      }
    },
    {
      "cell_type": "code",
      "source": [
        "!pip install pysndfile\n",
        "#==1.0.28"
      ],
      "metadata": {
        "id": "H0gT8Aqg2URM",
        "colab": {
          "base_uri": "https://localhost:8080/"
        },
        "outputId": "0faa18b4-28fa-4efa-fc2a-af3972d14feb"
      },
      "execution_count": 6,
      "outputs": [
        {
          "output_type": "stream",
          "name": "stdout",
          "text": [
            "Requirement already satisfied: pysndfile in /usr/local/lib/python3.7/dist-packages (1.3.8)\n",
            "Requirement already satisfied: numpy>=1.13.0 in /usr/local/lib/python3.7/dist-packages (from pysndfile) (1.21.6)\n"
          ]
        }
      ]
    },
    {
      "cell_type": "code",
      "source": [
        "!pip install absl-py librosa soundfile matplotlib scipy numba jiwer unidecode deepspeech==0.8.2 praat-textgrids"
      ],
      "metadata": {
        "id": "aJjpZviz2gv1",
        "colab": {
          "base_uri": "https://localhost:8080/"
        },
        "outputId": "87d9c602-cd82-407e-e5cc-c73a958153ea"
      },
      "execution_count": 7,
      "outputs": [
        {
          "output_type": "stream",
          "name": "stdout",
          "text": [
            "Requirement already satisfied: absl-py in /usr/local/lib/python3.7/dist-packages (1.0.0)\n",
            "Requirement already satisfied: librosa in /usr/local/lib/python3.7/dist-packages (0.8.1)\n",
            "Requirement already satisfied: soundfile in /usr/local/lib/python3.7/dist-packages (0.10.3.post1)\n",
            "Requirement already satisfied: matplotlib in /usr/local/lib/python3.7/dist-packages (3.2.2)\n",
            "Requirement already satisfied: scipy in /usr/local/lib/python3.7/dist-packages (1.4.1)\n",
            "Requirement already satisfied: numba in /usr/local/lib/python3.7/dist-packages (0.51.2)\n",
            "Collecting jiwer\n",
            "  Downloading jiwer-2.3.0-py3-none-any.whl (15 kB)\n",
            "Collecting unidecode\n",
            "  Downloading Unidecode-1.3.4-py3-none-any.whl (235 kB)\n",
            "\u001b[K     |████████████████████████████████| 235 kB 8.0 MB/s \n",
            "\u001b[?25hCollecting deepspeech==0.8.2\n",
            "  Downloading deepspeech-0.8.2-cp37-cp37m-manylinux1_x86_64.whl (8.3 MB)\n",
            "\u001b[K     |████████████████████████████████| 8.3 MB 21.9 MB/s \n",
            "\u001b[?25hCollecting praat-textgrids\n",
            "  Downloading praat-textgrids-1.3.1.tar.gz (12 kB)\n",
            "Requirement already satisfied: numpy>=1.14.5 in /usr/local/lib/python3.7/dist-packages (from deepspeech==0.8.2) (1.21.6)\n",
            "Requirement already satisfied: six in /usr/local/lib/python3.7/dist-packages (from absl-py) (1.15.0)\n",
            "Requirement already satisfied: resampy>=0.2.2 in /usr/local/lib/python3.7/dist-packages (from librosa) (0.2.2)\n",
            "Requirement already satisfied: pooch>=1.0 in /usr/local/lib/python3.7/dist-packages (from librosa) (1.6.0)\n",
            "Requirement already satisfied: scikit-learn!=0.19.0,>=0.14.0 in /usr/local/lib/python3.7/dist-packages (from librosa) (1.0.2)\n",
            "Requirement already satisfied: joblib>=0.14 in /usr/local/lib/python3.7/dist-packages (from librosa) (1.1.0)\n",
            "Requirement already satisfied: audioread>=2.0.0 in /usr/local/lib/python3.7/dist-packages (from librosa) (2.1.9)\n",
            "Requirement already satisfied: packaging>=20.0 in /usr/local/lib/python3.7/dist-packages (from librosa) (21.3)\n",
            "Requirement already satisfied: decorator>=3.0.0 in /usr/local/lib/python3.7/dist-packages (from librosa) (4.4.2)\n",
            "Requirement already satisfied: cffi>=1.0 in /usr/local/lib/python3.7/dist-packages (from soundfile) (1.15.0)\n",
            "Requirement already satisfied: setuptools in /usr/local/lib/python3.7/dist-packages (from numba) (57.4.0)\n",
            "Requirement already satisfied: llvmlite<0.35,>=0.34.0.dev0 in /usr/local/lib/python3.7/dist-packages (from numba) (0.34.0)\n",
            "Requirement already satisfied: pycparser in /usr/local/lib/python3.7/dist-packages (from cffi>=1.0->soundfile) (2.21)\n",
            "Requirement already satisfied: pyparsing!=3.0.5,>=2.0.2 in /usr/local/lib/python3.7/dist-packages (from packaging>=20.0->librosa) (3.0.8)\n",
            "Requirement already satisfied: requests>=2.19.0 in /usr/local/lib/python3.7/dist-packages (from pooch>=1.0->librosa) (2.23.0)\n",
            "Requirement already satisfied: appdirs>=1.3.0 in /usr/local/lib/python3.7/dist-packages (from pooch>=1.0->librosa) (1.4.4)\n",
            "Requirement already satisfied: urllib3!=1.25.0,!=1.25.1,<1.26,>=1.21.1 in /usr/local/lib/python3.7/dist-packages (from requests>=2.19.0->pooch>=1.0->librosa) (1.24.3)\n",
            "Requirement already satisfied: idna<3,>=2.5 in /usr/local/lib/python3.7/dist-packages (from requests>=2.19.0->pooch>=1.0->librosa) (2.10)\n",
            "Requirement already satisfied: certifi>=2017.4.17 in /usr/local/lib/python3.7/dist-packages (from requests>=2.19.0->pooch>=1.0->librosa) (2021.10.8)\n",
            "Requirement already satisfied: chardet<4,>=3.0.2 in /usr/local/lib/python3.7/dist-packages (from requests>=2.19.0->pooch>=1.0->librosa) (3.0.4)\n",
            "Requirement already satisfied: threadpoolctl>=2.0.0 in /usr/local/lib/python3.7/dist-packages (from scikit-learn!=0.19.0,>=0.14.0->librosa) (3.1.0)\n",
            "Requirement already satisfied: kiwisolver>=1.0.1 in /usr/local/lib/python3.7/dist-packages (from matplotlib) (1.4.2)\n",
            "Requirement already satisfied: cycler>=0.10 in /usr/local/lib/python3.7/dist-packages (from matplotlib) (0.11.0)\n",
            "Requirement already satisfied: python-dateutil>=2.1 in /usr/local/lib/python3.7/dist-packages (from matplotlib) (2.8.2)\n",
            "Requirement already satisfied: typing-extensions in /usr/local/lib/python3.7/dist-packages (from kiwisolver>=1.0.1->matplotlib) (4.2.0)\n",
            "Collecting python-Levenshtein==0.12.2\n",
            "  Downloading python-Levenshtein-0.12.2.tar.gz (50 kB)\n",
            "\u001b[K     |████████████████████████████████| 50 kB 7.7 MB/s \n",
            "\u001b[?25hBuilding wheels for collected packages: python-Levenshtein, praat-textgrids\n",
            "  Building wheel for python-Levenshtein (setup.py) ... \u001b[?25l\u001b[?25hdone\n",
            "  Created wheel for python-Levenshtein: filename=python_Levenshtein-0.12.2-cp37-cp37m-linux_x86_64.whl size=149861 sha256=4f91ea862e8ab11c92a18e85419f1b9a21de490d6564b1a7b0cd059a06b80847\n",
            "  Stored in directory: /root/.cache/pip/wheels/05/5f/ca/7c4367734892581bb5ff896f15027a932c551080b2abd3e00d\n",
            "  Building wheel for praat-textgrids (setup.py) ... \u001b[?25l\u001b[?25hdone\n",
            "  Created wheel for praat-textgrids: filename=praat_textgrids-1.3.1-py3-none-any.whl size=12397 sha256=895ed5e5ebaf2bdba0080b8e3bd3c5d62030d492e6fc4e8fd84f6a29ca8c3e68\n",
            "  Stored in directory: /root/.cache/pip/wheels/78/5e/7c/ebd0d2a251e76cc196edcb3781be75b68dfbf91f149060e6d5\n",
            "Successfully built python-Levenshtein praat-textgrids\n",
            "Installing collected packages: python-Levenshtein, unidecode, praat-textgrids, jiwer, deepspeech\n",
            "Successfully installed deepspeech-0.8.2 jiwer-2.3.0 praat-textgrids-1.3.1 python-Levenshtein-0.12.2 unidecode-1.3.4\n"
          ]
        }
      ]
    },
    {
      "cell_type": "markdown",
      "source": [
        "# Running"
      ],
      "metadata": {
        "id": "8u5jksv63Bf-"
      }
    },
    {
      "cell_type": "code",
      "source": [
        "!python wavenet_model.py --pretrained_wavenet_model \"./models/wavenet_model/wavenet_model_50_of_50.pt\" --output_directory \"./models/wavenet_model_over_voiced/\"\n",
        "\n",
        "#!python wavenet_model.py --output_directory \"./models/wavenet_model/\"\n",
        "#!python wavenet_model.py --output_directory \"./models/wavenet_model/\" --silent_data_directories \"\"\n",
        "#!python wavenet_model.py --pretrained_wavenet_model \"./models/wavenet_model/wavenet_model_1_of_50.pt\" --output_directory \"./models/wavenet_model/\" --silent_data_directories \"\"\n",
        "#!python wavenet_model.py --pretrained_wavenet_model \"./models/wavenet_model/wavenet_model_silent_2_of_50.pt\" --output_directory \"./models/wavenet_model/\"\n"
      ],
      "metadata": {
        "id": "tS9ezcIh3Z6N"
      },
      "execution_count": null,
      "outputs": []
    },
    {
      "cell_type": "code",
      "source": [
        "\n",
        "#!python transduction_model.py --data_size_fraction 0.5 --batch_size 1 --pretrained_wavenet_model \"./models/wavenet_model/wavenet_model.pt\" --output_directory \"./models/transduction_model/\"\n",
        "#!python transduction_model.py --batch_size 2 --pretrained_wavenet_model \"./models/wavenet_model/wavenet_model.pt\" --output_directory \"./models/transduction_model/\"\n",
        "#!python transduction_model.py --pretrained_wavenet_model \"./models/wavenet_model/wavenet_model.pt\" --output_directory \"./models/transduction_model/\"\n",
        "#!python transduction_model.py --batch_size 32 --pretrained_wavenet_model \"./models/wavenet_model/wavenet_model.pt\" --output_directory \"./models/transduction_model/\"\n",
        "\n",
        "#!python transduction_model.py --start_training_from ./models/transduction_model/model.pt --pretrained_wavenet_model \"./models/wavenet_model/wavenet_model.pt\" --output_directory \"./models/transduction_model/\"\n",
        "#!python transduction_model.py --num_workers 2 --batch_sampler 128000 --batch_size 2 --model_size 384 --start_training_from ./models/transduction_model/model_384_voiced_55_of_80.pt --pretrained_wavenet_model \"./models/wavenet_model/wavenet_model_50_of_50.pt\" --output_directory \"./models/transduction_model/\"\n",
        "epoch_idx_start = 0\n",
        "batch_idx_start = 243 * epoch_idx_start\n",
        "!python transduction_model.py --voiced_data_directories \"/content/emg_data/voiced_parallel_data\",\"/content/emg_data/nonparallel_data\" --silent_data_directories \"/content/emg_data/silent_parallel_data\" --text_align_directory \"/content/text_alignments\" --batch_idx_start {batch_idx_start} --epoch_idx_start {epoch_idx_start} --num_workers 2 --batch_sampler 256000 --batch_size 2 --model_size 384 --start_training_from ./models/transduction_model/model_384_21_of_80.pt --pretrained_wavenet_model \"./models/wavenet_model/wavenet_model_50_of_50.pt\" --output_directory \"./models/transduction_model/\"\n"
      ],
      "metadata": {
        "id": "NuupoZJDb352",
        "colab": {
          "base_uri": "https://localhost:8080/"
        },
        "outputId": "1859f767-7b3b-4008-db32-6980bb0af405"
      },
      "execution_count": null,
      "outputs": [
        {
          "output_type": "stream",
          "name": "stdout",
          "text": [
            "c993f9d7440ba2a5e30edc61a85a92ffade62a95\n",
            "\n",
            "diff --git a/normalizers.pkl b/normalizers.pkl\n",
            "old mode 100755\n",
            "new mode 100644\n",
            "diff --git a/testset_origdev.json b/testset_origdev.json\n",
            "old mode 100755\n",
            "new mode 100644\n",
            "diff --git a/transduction_model.py b/transduction_model.py\n",
            "old mode 100755\n",
            "new mode 100644\n",
            "index 24bc0d7..6e5e49b\n",
            "--- a/transduction_model.py\n",
            "+++ b/transduction_model.py\n",
            "@@ -17,6 +17,10 @@ from data_utils import phoneme_inventory, decollate_tensor\n",
            " \n",
            " from absl import flags\n",
            " FLAGS = flags.FLAGS\n",
            "+flags.DEFINE_integer('batch_idx_start', 0, 'batch_idx_start')\n",
            "+flags.DEFINE_integer('epoch_idx_start', 1, 'epoch_idx_start')\n",
            "+flags.DEFINE_integer('num_workers', 8, 'num_workers in DataLoader')\n",
            "+flags.DEFINE_integer('batch_sampler', 256000, 'batch_sampler in DataLoader')\n",
            " flags.DEFINE_integer('model_size', 768, 'number of hidden dimensions')\n",
            " flags.DEFINE_integer('num_layers', 6, 'number of layers')\n",
            " flags.DEFINE_integer('batch_size', 32, 'training batch size')\n",
            "@@ -208,7 +212,7 @@ def train_model(trainset, devset, device, save_sound_outputs=True, n_epochs=80):\n",
            "         training_subset = trainset\n",
            "     else:\n",
            "         training_subset = torch.utils.data.Subset(trainset, list(range(int(len(trainset)*FLAGS.data_size_fraction))))\n",
            "-    dataloader = torch.utils.data.DataLoader(training_subset, pin_memory=(device=='cuda'), collate_fn=devset.collate_fixed_length, num_workers=8, batch_sampler=SizeAwareSampler(trainset, 256000))\n",
            "+    dataloader = torch.utils.data.DataLoader(training_subset, pin_memory=(device=='cuda'), collate_fn=devset.collate_fixed_length, num_workers=FLAGS.num_workers, batch_sampler=SizeAwareSampler(trainset, FLAGS.batch_sampler))\n",
            " \n",
            "     n_phones = len(phoneme_inventory)\n",
            "     model = Model(devset.num_features, devset.num_speech_features, n_phones, devset.num_sessions).to(device)\n",
            "@@ -230,9 +234,11 @@ def train_model(trainset, devset, device, save_sound_outputs=True, n_epochs=80):\n",
            "         iteration = iteration + 1\n",
            "         if iteration <= FLAGS.learning_rate_warmup:\n",
            "             set_lr(iteration*target_lr/FLAGS.learning_rate_warmup)\n",
            "+        #else:\n",
            "+        #    set_lr(target_lr)\n",
            " \n",
            "-    batch_idx = 0\n",
            "-    for epoch_idx in range(n_epochs):\n",
            "+    batch_idx = FLAGS.batch_idx_start\n",
            "+    for epoch_idx in range(FLAGS.epoch_idx_start, n_epochs):\n",
            "         losses = []\n",
            "         for example in dataloader:\n",
            "             optim.zero_grad()\n",
            "@@ -254,12 +260,12 @@ def train_model(trainset, devset, device, save_sound_outputs=True, n_epochs=80):\n",
            "         train_loss = np.mean(losses)\n",
            "         val, phoneme_acc, _ = test(model, devset, device)\n",
            "         lr_sched.step(val)\n",
            "-        logging.info(f'finished epoch {epoch_idx+1} - validation loss: {val:.4f} training loss: {train_loss:.4f} phoneme accuracy: {phoneme_acc*100:.2f}')\n",
            "+        logging.info(f'finished epoch {epoch_idx+1} - validation loss: {val:.4f} training loss: {train_loss:.4f} phoneme accuracy: {phoneme_acc*100:.2f} batch_idx: {batch_idx:.0f}')\n",
            "         torch.save(model.state_dict(), os.path.join(FLAGS.output_directory,'model.pt'))\n",
            "         if save_sound_outputs:\n",
            "             save_output(model, devset[0], os.path.join(FLAGS.output_directory, f'epoch_{epoch_idx}_output.wav'), device)\n",
            " \n",
            "-    model.load_state_dict(torch.load(os.path.join(FLAGS.output_directory,'model.pt'))) # re-load best parameters\n",
            "+    model.load_state_dict(torch.load(os.path.join(FLAGS.output_directory,f'model.pt'))) # re-load best parameters\n",
            " \n",
            "     if save_sound_outputs:\n",
            "         for i, datapoint in enumerate(devset):\n",
            "diff --git a/wavenet_model.py b/wavenet_model.py\n",
            "old mode 100755\n",
            "new mode 100644\n",
            "\n",
            "['transduction_model.py', '--voiced_data_directories', '/content/emg_data/voiced_parallel_data,/content/emg_data/nonparallel_data', '--silent_data_directories', '/content/emg_data/silent_parallel_data', '--text_align_directory', '/content/text_alignments', '--batch_idx_start', '0', '--epoch_idx_start', '0', '--num_workers', '2', '--batch_sampler', '256000', '--batch_size', '2', '--model_size', '384', '--start_training_from', './models/transduction_model/model_384_21_of_80.pt', '--pretrained_wavenet_model', './models/wavenet_model/wavenet_model_50_of_50.pt', '--output_directory', './models/transduction_model/']\n",
            "output example: (/content/emg_data/silent_parallel_data/5-6_silent, 208)\n",
            "train / dev split: 8055 200\n"
          ]
        }
      ]
    },
    {
      "cell_type": "code",
      "source": [
        "#!python transduction_model.py --model_size 768 --pretrained_wavenet_model \"./models/wavenet_model/wavenet_model_50.pt\" --output_directory \"./models/transduction_model/\"\n",
        "#!python transduction_model.py --model_size 512 --pretrained_wavenet_model \"./models/wavenet_model/wavenet_model_50.pt\" --output_directory \"./models/transduction_model/\"\n",
        "\n",
        "#!python transduction_model.py --num_workers 2 --batch_sampler 128000 --batch_size 2 --model_size 768 --pretrained_wavenet_model \"./models/wavenet_model/wavenet_model_50.pt\" --output_directory \"./models/transduction_model/\"\n",
        "!python transduction_model.py --num_workers 2 --batch_sampler 128000 --batch_size 2 --model_size 384 --pretrained_wavenet_model \"./models/wavenet_model/wavenet_model_50.pt\" --output_directory \"./models/transduction_model/\"\n",
        "#!python transduction_model.py --batch_sampler 256000 --batch_size 2 --model_size 768 --pretrained_wavenet_model \"./models/wavenet_model/wavenet_model_50.pt\" --output_directory \"./models/transduction_model/\"\n",
        "#!python transduction_model.py --batch_size 2 --model_size 512 --pretrained_wavenet_model \"./models/wavenet_model/wavenet_model_50.pt\" --output_directory \"./models/transduction_model/\"\n",
        "#!python transduction_model.py --batch_size 2 --model_size 384 --pretrained_wavenet_model \"./models/wavenet_model/wavenet_model_50.pt\" --output_directory \"./models/transduction_model/\"\n"
      ],
      "metadata": {
        "id": "SsoiIS8KuPgh"
      },
      "execution_count": null,
      "outputs": []
    },
    {
      "cell_type": "code",
      "source": [
        "!python transduction_model.py --pretrained_wavenet_model \"./models/wavenet_model/wavenet_model.pt\" --output_directory \"./models/transduction_model/\"\n"
      ],
      "metadata": {
        "id": "c0bpM3kD3dYo"
      },
      "execution_count": null,
      "outputs": []
    },
    {
      "cell_type": "code",
      "source": [
        "!python evaluate.py --models ./models/transduction_model/model.pt --pretrained_wavenet_model ./models/wavenet_model/wavenet_model.pt --output_directory evaluation_output\n"
      ],
      "metadata": {
        "id": "JTKhs6NA3g5z"
      },
      "execution_count": null,
      "outputs": []
    },
    {
      "cell_type": "code",
      "source": [
        "!python evaluate.py --testset_file testset_origdev.json --models ./models/transduction_model/model.pt --pretrained_wavenet_model ./models/wavenet_model/wavenet_model.pt --output_directory evaluation_output\n"
      ],
      "metadata": {
        "id": "XDjqsCqo3myt"
      },
      "execution_count": null,
      "outputs": []
    }
  ]
}