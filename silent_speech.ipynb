{
  "nbformat": 4,
  "nbformat_minor": 0,
  "metadata": {
    "colab": {
      "name": "silent_speech.ipynb",
      "provenance": [],
      "include_colab_link": true
    },
    "kernelspec": {
      "name": "python3",
      "display_name": "Python 3"
    },
    "language_info": {
      "name": "python"
    },
    "accelerator": "GPU"
  },
  "cells": [
    {
      "cell_type": "markdown",
      "metadata": {
        "id": "view-in-github",
        "colab_type": "text"
      },
      "source": [
        "<a href=\"https://colab.research.google.com/github/neuroidss/silent_speech/blob/main/silent_speech.ipynb\" target=\"_parent\"><img src=\"https://colab.research.google.com/assets/colab-badge.svg\" alt=\"Open In Colab\"/></a>"
      ]
    },
    {
      "cell_type": "markdown",
      "source": [
        "# Data"
      ],
      "metadata": {
        "id": "jMa66b9W28uu"
      }
    },
    {
      "cell_type": "code",
      "source": [
        "!rm -rf /usr/local/cuda\n",
        "!ln -s /usr/local/cuda-10.1 /usr/local/cuda"
      ],
      "metadata": {
        "id": "usKQe8b7sGoW"
      },
      "execution_count": 10,
      "outputs": []
    },
    {
      "cell_type": "code",
      "source": [
        "from google.colab import drive\n",
        "drive.mount('/content/drive')"
      ],
      "metadata": {
        "id": "5fOSdSoW4Izl",
        "colab": {
          "base_uri": "https://localhost:8080/"
        },
        "outputId": "325d5d61-0dc7-49d8-9456-c7572366a365"
      },
      "execution_count": 2,
      "outputs": [
        {
          "output_type": "stream",
          "name": "stdout",
          "text": [
            "Mounted at /content/drive\n"
          ]
        }
      ]
    },
    {
      "cell_type": "code",
      "source": [
        "import os\n",
        "if os.path.isdir(\"/content/drive/MyDrive/silent_speech\"):\n",
        "    %cd \"/content/drive/MyDrive/silent_speech\"\n",
        "    if not os.path.isdir(\"/content/emg_data\"):\n",
        "      !tar -xzf /content/drive/MyDrive/silent_speech/emg_data.tar.gz -C /content\n",
        "    if not os.path.isdir(\"/content/text_alignments\"):\n",
        "      !tar -xzf /content/drive/MyDrive/silent_speech/text_alignments.tar.gz -C /content\n",
        "else:\n",
        "    #install script\n",
        "    %cd \"/content/drive/MyDrive/\"\n",
        "    !git clone https://github.com/dgaddy/silent_speech.git\n",
        "    %cd \"/content/drive/MyDrive/silent_speech\"\n",
        "    !wget https://zenodo.org/record/4064409/files/emg_data.tar.gz?download=1 -O emg_data.tar.gz\n",
        "    !tar -xzf /content/drive/MyDrive/silent_speech/emg_data.tar.gz -C /content\n",
        "    !ln -s /content/emg_data ./emg_data\n",
        "    !wget https://github.com/dgaddy/silent_speech_alignments/raw/main/text_alignments.tar.gz\n",
        "    !tar -xzf /content/drive/MyDrive/silent_speech/text_alignments.tar.gz -C /content\n",
        "    !ln -s /content/text_alignments ./text_alignments\n",
        "    !git clone https://github.com/NVIDIA/nv-wavenet.git nv_wavenet\n",
        "    %cd /content/drive/MyDrive/silent_speech/nv_wavenet/pytorch\n",
        "    !make\n",
        "    !python build.py install\n",
        "    %cd /content/drive/MyDrive/silent_speech\n",
        "    !curl -LO https://github.com/mozilla/DeepSpeech/releases/download/v0.7.0/deepspeech-0.7.0-models.pbmm\n",
        "    !curl -LO https://github.com/mozilla/DeepSpeech/releases/download/v0.7.0/deepspeech-0.7.0-models.scorer\n"
      ],
      "metadata": {
        "colab": {
          "base_uri": "https://localhost:8080/"
        },
        "id": "ZwddtnwLqTl5",
        "outputId": "89b08bb0-78ea-43b8-a5cd-67605431980d"
      },
      "execution_count": 4,
      "outputs": [
        {
          "output_type": "stream",
          "name": "stdout",
          "text": [
            "/content/drive/MyDrive/silent_speech\n"
          ]
        }
      ]
    },
    {
      "cell_type": "markdown",
      "source": [
        "# Environment Setup"
      ],
      "metadata": {
        "id": "I9F1MccM3BAH"
      }
    },
    {
      "cell_type": "code",
      "source": [
        "!pip install pysndfile\n",
        "#==1.0.28"
      ],
      "metadata": {
        "id": "H0gT8Aqg2URM",
        "colab": {
          "base_uri": "https://localhost:8080/"
        },
        "outputId": "99fd37bc-2237-4e23-a576-90175a4d6696"
      },
      "execution_count": 5,
      "outputs": [
        {
          "output_type": "stream",
          "name": "stdout",
          "text": [
            "Requirement already satisfied: pysndfile in /usr/local/lib/python3.7/dist-packages (1.3.8)\n",
            "Requirement already satisfied: numpy>=1.13.0 in /usr/local/lib/python3.7/dist-packages (from pysndfile) (1.19.5)\n"
          ]
        }
      ]
    },
    {
      "cell_type": "code",
      "source": [
        "!pip install absl-py librosa soundfile matplotlib scipy numba jiwer unidecode deepspeech==0.8.2 praat-textgrids"
      ],
      "metadata": {
        "id": "aJjpZviz2gv1",
        "colab": {
          "base_uri": "https://localhost:8080/"
        },
        "outputId": "08fbe75f-1274-4631-c89d-c78938b8de8c"
      },
      "execution_count": 6,
      "outputs": [
        {
          "output_type": "stream",
          "name": "stdout",
          "text": [
            "Requirement already satisfied: absl-py in /usr/local/lib/python3.7/dist-packages (1.0.0)\n",
            "Requirement already satisfied: librosa in /usr/local/lib/python3.7/dist-packages (0.8.1)\n",
            "Requirement already satisfied: soundfile in /usr/local/lib/python3.7/dist-packages (0.10.3.post1)\n",
            "Requirement already satisfied: matplotlib in /usr/local/lib/python3.7/dist-packages (3.2.2)\n",
            "Requirement already satisfied: scipy in /usr/local/lib/python3.7/dist-packages (1.4.1)\n",
            "Requirement already satisfied: numba in /usr/local/lib/python3.7/dist-packages (0.51.2)\n",
            "Collecting jiwer\n",
            "  Downloading jiwer-2.3.0-py3-none-any.whl (15 kB)\n",
            "Collecting unidecode\n",
            "  Downloading Unidecode-1.3.2-py3-none-any.whl (235 kB)\n",
            "\u001b[K     |████████████████████████████████| 235 kB 8.1 MB/s \n",
            "\u001b[?25hCollecting deepspeech==0.8.2\n",
            "  Downloading deepspeech-0.8.2-cp37-cp37m-manylinux1_x86_64.whl (8.3 MB)\n",
            "\u001b[K     |████████████████████████████████| 8.3 MB 26.2 MB/s \n",
            "\u001b[?25hCollecting praat-textgrids\n",
            "  Downloading praat-textgrids-1.3.1.tar.gz (12 kB)\n",
            "Requirement already satisfied: numpy>=1.14.5 in /usr/local/lib/python3.7/dist-packages (from deepspeech==0.8.2) (1.19.5)\n",
            "Requirement already satisfied: six in /usr/local/lib/python3.7/dist-packages (from absl-py) (1.15.0)\n",
            "Requirement already satisfied: decorator>=3.0.0 in /usr/local/lib/python3.7/dist-packages (from librosa) (4.4.2)\n",
            "Requirement already satisfied: audioread>=2.0.0 in /usr/local/lib/python3.7/dist-packages (from librosa) (2.1.9)\n",
            "Requirement already satisfied: joblib>=0.14 in /usr/local/lib/python3.7/dist-packages (from librosa) (1.1.0)\n",
            "Requirement already satisfied: packaging>=20.0 in /usr/local/lib/python3.7/dist-packages (from librosa) (21.3)\n",
            "Requirement already satisfied: pooch>=1.0 in /usr/local/lib/python3.7/dist-packages (from librosa) (1.6.0)\n",
            "Requirement already satisfied: resampy>=0.2.2 in /usr/local/lib/python3.7/dist-packages (from librosa) (0.2.2)\n",
            "Requirement already satisfied: scikit-learn!=0.19.0,>=0.14.0 in /usr/local/lib/python3.7/dist-packages (from librosa) (1.0.2)\n",
            "Requirement already satisfied: cffi>=1.0 in /usr/local/lib/python3.7/dist-packages (from soundfile) (1.15.0)\n",
            "Requirement already satisfied: llvmlite<0.35,>=0.34.0.dev0 in /usr/local/lib/python3.7/dist-packages (from numba) (0.34.0)\n",
            "Requirement already satisfied: setuptools in /usr/local/lib/python3.7/dist-packages (from numba) (57.4.0)\n",
            "Requirement already satisfied: pycparser in /usr/local/lib/python3.7/dist-packages (from cffi>=1.0->soundfile) (2.21)\n",
            "Requirement already satisfied: pyparsing!=3.0.5,>=2.0.2 in /usr/local/lib/python3.7/dist-packages (from packaging>=20.0->librosa) (3.0.7)\n",
            "Requirement already satisfied: requests>=2.19.0 in /usr/local/lib/python3.7/dist-packages (from pooch>=1.0->librosa) (2.23.0)\n",
            "Requirement already satisfied: appdirs>=1.3.0 in /usr/local/lib/python3.7/dist-packages (from pooch>=1.0->librosa) (1.4.4)\n",
            "Requirement already satisfied: urllib3!=1.25.0,!=1.25.1,<1.26,>=1.21.1 in /usr/local/lib/python3.7/dist-packages (from requests>=2.19.0->pooch>=1.0->librosa) (1.24.3)\n",
            "Requirement already satisfied: certifi>=2017.4.17 in /usr/local/lib/python3.7/dist-packages (from requests>=2.19.0->pooch>=1.0->librosa) (2021.10.8)\n",
            "Requirement already satisfied: idna<3,>=2.5 in /usr/local/lib/python3.7/dist-packages (from requests>=2.19.0->pooch>=1.0->librosa) (2.10)\n",
            "Requirement already satisfied: chardet<4,>=3.0.2 in /usr/local/lib/python3.7/dist-packages (from requests>=2.19.0->pooch>=1.0->librosa) (3.0.4)\n",
            "Requirement already satisfied: threadpoolctl>=2.0.0 in /usr/local/lib/python3.7/dist-packages (from scikit-learn!=0.19.0,>=0.14.0->librosa) (3.0.0)\n",
            "Requirement already satisfied: python-dateutil>=2.1 in /usr/local/lib/python3.7/dist-packages (from matplotlib) (2.8.2)\n",
            "Requirement already satisfied: cycler>=0.10 in /usr/local/lib/python3.7/dist-packages (from matplotlib) (0.11.0)\n",
            "Requirement already satisfied: kiwisolver>=1.0.1 in /usr/local/lib/python3.7/dist-packages (from matplotlib) (1.3.2)\n",
            "Collecting python-Levenshtein==0.12.2\n",
            "  Downloading python-Levenshtein-0.12.2.tar.gz (50 kB)\n",
            "\u001b[K     |████████████████████████████████| 50 kB 7.5 MB/s \n",
            "\u001b[?25hBuilding wheels for collected packages: python-Levenshtein, praat-textgrids\n",
            "  Building wheel for python-Levenshtein (setup.py) ... \u001b[?25l\u001b[?25hdone\n",
            "  Created wheel for python-Levenshtein: filename=python_Levenshtein-0.12.2-cp37-cp37m-linux_x86_64.whl size=149865 sha256=afbb4769989a91b1d2e9c1dca5b21d550ac192b9749f6bc7373b201283b4ffb7\n",
            "  Stored in directory: /root/.cache/pip/wheels/05/5f/ca/7c4367734892581bb5ff896f15027a932c551080b2abd3e00d\n",
            "  Building wheel for praat-textgrids (setup.py) ... \u001b[?25l\u001b[?25hdone\n",
            "  Created wheel for praat-textgrids: filename=praat_textgrids-1.3.1-py3-none-any.whl size=12397 sha256=53b0bb771dc6e728dd2d8fbfdc4352c08c689016a88ca70328b9fe91186316e3\n",
            "  Stored in directory: /root/.cache/pip/wheels/78/5e/7c/ebd0d2a251e76cc196edcb3781be75b68dfbf91f149060e6d5\n",
            "Successfully built python-Levenshtein praat-textgrids\n",
            "Installing collected packages: python-Levenshtein, unidecode, praat-textgrids, jiwer, deepspeech\n",
            "Successfully installed deepspeech-0.8.2 jiwer-2.3.0 praat-textgrids-1.3.1 python-Levenshtein-0.12.2 unidecode-1.3.2\n"
          ]
        }
      ]
    },
    {
      "cell_type": "markdown",
      "source": [
        "# Running"
      ],
      "metadata": {
        "id": "8u5jksv63Bf-"
      }
    },
    {
      "cell_type": "code",
      "source": [
        "!python wavenet_model.py --output_directory \"./models/wavenet_model/\" --silent_data_directories \"\"\n"
      ],
      "metadata": {
        "id": "tS9ezcIh3Z6N"
      },
      "execution_count": null,
      "outputs": []
    },
    {
      "cell_type": "code",
      "source": [
        "\n",
        "#!python transduction_model.py --data_size_fraction 0.5 --batch_size 1 --pretrained_wavenet_model \"./models/wavenet_model/wavenet_model.pt\" --output_directory \"./models/transduction_model/\"\n",
        "#!python transduction_model.py --batch_size 2 --pretrained_wavenet_model \"./models/wavenet_model/wavenet_model.pt\" --output_directory \"./models/transduction_model/\"\n",
        "!python transduction_model.py --pretrained_wavenet_model \"./models/wavenet_model/wavenet_model.pt\" --output_directory \"./models/transduction_model/\"\n",
        "#!python transduction_model.py --batch_size 32 --pretrained_wavenet_model \"./models/wavenet_model/wavenet_model.pt\" --output_directory \"./models/transduction_model/\"\n",
        "\n"
      ],
      "metadata": {
        "id": "NuupoZJDb352"
      },
      "execution_count": null,
      "outputs": []
    },
    {
      "cell_type": "code",
      "source": [
        "!python transduction_model.py --pretrained_wavenet_model \"./models/wavenet_model/wavenet_model.pt\" --output_directory \"./models/transduction_model/\"\n"
      ],
      "metadata": {
        "id": "c0bpM3kD3dYo"
      },
      "execution_count": null,
      "outputs": []
    },
    {
      "cell_type": "code",
      "source": [
        "!python evaluate.py --models ./models/transduction_model/model.pt --pretrained_wavenet_model ./models/wavenet_model/wavenet_model.pt --output_directory evaluation_output\n"
      ],
      "metadata": {
        "id": "JTKhs6NA3g5z",
        "colab": {
          "base_uri": "https://localhost:8080/"
        },
        "outputId": "9d02e088-20e0-4fe1-87ba-9df873fc34bb"
      },
      "execution_count": null,
      "outputs": [
        {
          "output_type": "stream",
          "name": "stdout",
          "text": [
            "Common confusions (confusion, accuracy)\n",
            "eh ah 16.2 37.7\n",
            "l ah 17.4 33.1\n",
            "er ah 17.8 32.9\n",
            "iy ah 18.2 30.5\n",
            "ah ae 18.3 34.5\n",
            "r ah 18.4 33.4\n",
            "t ah 18.7 27.5\n",
            "ay ah 20.1 43.4\n",
            "ih ah 22.5 31.5\n",
            "n ah 23.8 35.4\n",
            "/content/drive/MyDrive/silent_speech/nv_wavenet/pytorch/wavenet.py:46: UserWarning: nn.init.xavier_uniform is now deprecated in favor of nn.init.xavier_uniform_.\n",
            "  self.conv.weight, gain=torch.nn.init.calculate_gain(w_init_gain))\n"
          ]
        }
      ]
    },
    {
      "cell_type": "code",
      "source": [
        "!python evaluate.py --models ./models/transduction_model/model.pt --pretrained_wavenet_model ./models/wavenet_model/wavenet_model.pt --output_directory evaluation_output --testset_file testset_origdev.json\n"
      ],
      "metadata": {
        "id": "XDjqsCqo3myt"
      },
      "execution_count": null,
      "outputs": []
    }
  ]
}