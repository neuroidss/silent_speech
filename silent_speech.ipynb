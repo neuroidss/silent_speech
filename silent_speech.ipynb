{
  "nbformat": 4,
  "nbformat_minor": 0,
  "metadata": {
    "colab": {
      "name": "silent_speech.ipynb",
      "provenance": [],
      "include_colab_link": true
    },
    "kernelspec": {
      "name": "python3",
      "display_name": "Python 3"
    },
    "language_info": {
      "name": "python"
    },
    "accelerator": "GPU"
  },
  "cells": [
    {
      "cell_type": "markdown",
      "metadata": {
        "id": "view-in-github",
        "colab_type": "text"
      },
      "source": [
        "<a href=\"https://colab.research.google.com/github/neuroidss/silent_speech/blob/main/silent_speech.ipynb\" target=\"_parent\"><img src=\"https://colab.research.google.com/assets/colab-badge.svg\" alt=\"Open In Colab\"/></a>"
      ]
    },
    {
      "cell_type": "markdown",
      "source": [
        "# Data"
      ],
      "metadata": {
        "id": "jMa66b9W28uu"
      }
    },
    {
      "cell_type": "code",
      "source": [
        "!rm -rf cuda\n",
        "!ln -s /usr/local/cuda-10.1 /usr/local/cuda"
      ],
      "metadata": {
        "id": "usKQe8b7sGoW"
      },
      "execution_count": 1,
      "outputs": []
    },
    {
      "cell_type": "code",
      "source": [
        "from google.colab import drive\n",
        "drive.mount('/content/drive')"
      ],
      "metadata": {
        "id": "5fOSdSoW4Izl",
        "colab": {
          "base_uri": "https://localhost:8080/"
        },
        "outputId": "325d5d61-0dc7-49d8-9456-c7572366a365"
      },
      "execution_count": 2,
      "outputs": [
        {
          "output_type": "stream",
          "name": "stdout",
          "text": [
            "Mounted at /content/drive\n"
          ]
        }
      ]
    },
    {
      "cell_type": "code",
      "source": [
        "import os\n",
        "if os.path.isdir(\"/content/drive/MyDrive/silent_speech\"):\n",
        "    %cd \"/content/drive/MyDrive/silent_speech\"\n",
        "else:\n",
        "    #install script\n",
        "    %cd \"/content/drive/MyDrive/\"\n",
        "    !git clone https://github.com/dgaddy/silent_speech.git\n",
        "    %cd \"/content/drive/MyDrive/silent_speech\"\n",
        "    !wget https://zenodo.org/record/4064409/files/emg_data.tar.gz?download=1 -O emg_data.tar.gz\n",
        "    !tar -xzf /content/drive/MyDrive/silent_speech/emg_data.tar.gz -C /content\n",
        "    !ln -s /content/emg_data ./emg_data\n",
        "    !wget https://github.com/dgaddy/silent_speech_alignments/raw/main/text_alignments.tar.gz\n",
        "    !tar -xzf /content/drive/MyDrive/silent_speech/text_alignments.tar.gz -C /content\n",
        "    !ln -s /content/text_alignments ./text_alignments\n",
        "    !git clone https://github.com/NVIDIA/nv-wavenet.git nv_wavenet\n",
        "    %cd /content/silent_speech/nv_wavenet/pytorch\n",
        "    !make\n",
        "    !python build.py install\n",
        "    %cd /content/silent_speech\n",
        "    !curl -LO https://github.com/mozilla/DeepSpeech/releases/download/v0.7.0/deepspeech-0.7.0-models.pbmm\n",
        "    !curl -LO https://github.com/mozilla/DeepSpeech/releases/download/v0.7.0/deepspeech-0.7.0-models.scorer\n",
        "\n",
        "\n"
      ],
      "metadata": {
        "colab": {
          "base_uri": "https://localhost:8080/"
        },
        "id": "ZwddtnwLqTl5",
        "outputId": "564a7fa3-2dc8-4bd4-c5a3-b1f1d0fbf0fe"
      },
      "execution_count": null,
      "outputs": [
        {
          "output_type": "stream",
          "name": "stdout",
          "text": [
            "/content/drive/MyDrive\n",
            "Cloning into 'silent_speech'...\n",
            "remote: Enumerating objects: 43, done.\u001b[K\n",
            "remote: Counting objects: 100% (43/43), done.\u001b[K\n",
            "remote: Compressing objects: 100% (34/34), done.\u001b[K\n",
            "remote: Total 43 (delta 17), reused 33 (delta 9), pack-reused 0\u001b[K\n",
            "Unpacking objects: 100% (43/43), done.\n",
            "/content/drive/MyDrive/silent_speech\n",
            "--2022-02-03 23:15:50--  https://zenodo.org/record/4064409/files/emg_data.tar.gz?download=1\n",
            "Resolving zenodo.org (zenodo.org)... 137.138.76.77\n",
            "Connecting to zenodo.org (zenodo.org)|137.138.76.77|:443... connected.\n",
            "HTTP request sent, awaiting response... 200 OK\n",
            "Length: 3919507637 (3.6G) [application/octet-stream]\n",
            "Saving to: ‘emg_data.tar.gz’\n",
            "\n",
            "emg_data.tar.gz      16%[==>                 ] 631.40M  7.12MB/s    eta 6m 34s "
          ]
        }
      ]
    },
    {
      "cell_type": "markdown",
      "source": [
        "# Environment Setup"
      ],
      "metadata": {
        "id": "I9F1MccM3BAH"
      }
    },
    {
      "cell_type": "code",
      "source": [
        "!pip install pysndfile\n",
        "#==1.0.28"
      ],
      "metadata": {
        "id": "H0gT8Aqg2URM",
        "colab": {
          "base_uri": "https://localhost:8080/"
        },
        "outputId": "1209898c-aeb1-408f-a60c-d2c90a19c71c"
      },
      "execution_count": 4,
      "outputs": [
        {
          "output_type": "stream",
          "name": "stdout",
          "text": [
            "Requirement already satisfied: pysndfile in /usr/local/lib/python3.7/dist-packages (1.3.8)\n",
            "Requirement already satisfied: numpy>=1.13.0 in /usr/local/lib/python3.7/dist-packages (from pysndfile) (1.19.5)\n"
          ]
        }
      ]
    },
    {
      "cell_type": "code",
      "source": [
        "!pip install absl-py librosa soundfile matplotlib scipy numba jiwer unidecode deepspeech==0.8.2 praat-textgrids"
      ],
      "metadata": {
        "id": "aJjpZviz2gv1"
      },
      "execution_count": null,
      "outputs": []
    },
    {
      "cell_type": "markdown",
      "source": [
        "# Running"
      ],
      "metadata": {
        "id": "8u5jksv63Bf-"
      }
    },
    {
      "cell_type": "code",
      "source": [
        "!python wavenet_model.py --output_directory \"./models/wavenet_model/\" --silent_data_directories \"\"\n"
      ],
      "metadata": {
        "id": "tS9ezcIh3Z6N"
      },
      "execution_count": null,
      "outputs": []
    },
    {
      "cell_type": "code",
      "source": [
        "\n",
        "#!python transduction_model.py --data_size_fraction 0.5 --batch_size 1 --pretrained_wavenet_model \"./models/wavenet_model/wavenet_model.pt\" --output_directory \"./models/transduction_model/\"\n",
        "#!python transduction_model.py --batch_size 2 --pretrained_wavenet_model \"./models/wavenet_model/wavenet_model.pt\" --output_directory \"./models/transduction_model/\"\n",
        "!python transduction_model.py --pretrained_wavenet_model \"./models/wavenet_model/wavenet_model.pt\" --output_directory \"./models/transduction_model/\"\n",
        "#!python transduction_model.py --batch_size 32 --pretrained_wavenet_model \"./models/wavenet_model/wavenet_model.pt\" --output_directory \"./models/transduction_model/\"\n",
        "\n"
      ],
      "metadata": {
        "id": "NuupoZJDb352"
      },
      "execution_count": null,
      "outputs": []
    },
    {
      "cell_type": "code",
      "source": [
        "!python transduction_model.py --pretrained_wavenet_model \"./models/wavenet_model/wavenet_model.pt\" --output_directory \"./models/transduction_model/\"\n"
      ],
      "metadata": {
        "id": "c0bpM3kD3dYo"
      },
      "execution_count": null,
      "outputs": []
    },
    {
      "cell_type": "code",
      "source": [
        "!python evaluate.py --models ./models/transduction_model/model.pt --pretrained_wavenet_model ./models/wavenet_model/wavenet_model.pt --output_directory evaluation_output\n"
      ],
      "metadata": {
        "id": "JTKhs6NA3g5z"
      },
      "execution_count": null,
      "outputs": []
    },
    {
      "cell_type": "code",
      "source": [
        "!python evaluate.py --models ./models/transduction_model/model.pt --pretrained_wavenet_model ./models/wavenet_model/wavenet_model.pt --output_directory evaluation_output --testset_file testset_origdev.json\n"
      ],
      "metadata": {
        "id": "XDjqsCqo3myt"
      },
      "execution_count": null,
      "outputs": []
    }
  ]
}