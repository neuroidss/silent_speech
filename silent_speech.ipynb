{
  "nbformat": 4,
  "nbformat_minor": 0,
  "metadata": {
    "colab": {
      "name": "silent_speech.ipynb",
      "provenance": [],
      "collapsed_sections": [],
      "include_colab_link": true
    },
    "kernelspec": {
      "name": "python3",
      "display_name": "Python 3"
    },
    "language_info": {
      "name": "python"
    },
    "accelerator": "GPU"
  },
  "cells": [
    {
      "cell_type": "markdown",
      "metadata": {
        "id": "view-in-github",
        "colab_type": "text"
      },
      "source": [
        "<a href=\"https://colab.research.google.com/github/neuroidss/silent_speech/blob/main/silent_speech.ipynb\" target=\"_parent\"><img src=\"https://colab.research.google.com/assets/colab-badge.svg\" alt=\"Open In Colab\"/></a>"
      ]
    },
    {
      "cell_type": "markdown",
      "source": [
        "# Data"
      ],
      "metadata": {
        "id": "jMa66b9W28uu"
      }
    },
    {
      "cell_type": "code",
      "source": [
        "!rm -rf /usr/local/cuda\n",
        "!ln -s /usr/local/cuda-10.1 /usr/local/cuda"
      ],
      "metadata": {
        "id": "usKQe8b7sGoW"
      },
      "execution_count": 1,
      "outputs": []
    },
    {
      "cell_type": "code",
      "source": [
        "from google.colab import drive\n",
        "drive.mount('/content/drive')"
      ],
      "metadata": {
        "id": "5fOSdSoW4Izl",
        "colab": {
          "base_uri": "https://localhost:8080/"
        },
        "outputId": "19527b7e-e240-4ee9-9593-75ef9116cecc"
      },
      "execution_count": 2,
      "outputs": [
        {
          "output_type": "stream",
          "name": "stdout",
          "text": [
            "Mounted at /content/drive\n"
          ]
        }
      ]
    },
    {
      "cell_type": "code",
      "source": [
        "import os\n",
        "if os.path.isdir(\"/content/drive/MyDrive/silent_speech\"):\n",
        "    %cd \"/content/drive/MyDrive/silent_speech\"\n",
        "    if not os.path.isdir(\"/content/emg_data\"):\n",
        "      !tar -xzf /content/drive/MyDrive/silent_speech/emg_data.tar.gz -C /content\n",
        "    if not os.path.isdir(\"/content/text_alignments\"):\n",
        "      !tar -xzf /content/drive/MyDrive/silent_speech/text_alignments.tar.gz -C /content\n",
        "    %cd /content/drive/MyDrive/silent_speech/nv_wavenet/pytorch\n",
        "    !python build.py install      \n",
        "    %cd /content/drive/MyDrive/silent_speech\n",
        "else:\n",
        "    #install script\n",
        "    %cd \"/content/drive/MyDrive/\"\n",
        "    !git clone https://github.com/dgaddy/silent_speech.git\n",
        "    %cd \"/content/drive/MyDrive/silent_speech\"\n",
        "    !wget https://zenodo.org/record/4064409/files/emg_data.tar.gz?download=1 -O emg_data.tar.gz\n",
        "    !tar -xzf /content/drive/MyDrive/silent_speech/emg_data.tar.gz -C /content\n",
        "    !ln -s /content/emg_data ./emg_data\n",
        "    !wget https://github.com/dgaddy/silent_speech_alignments/raw/main/text_alignments.tar.gz\n",
        "    !tar -xzf /content/drive/MyDrive/silent_speech/text_alignments.tar.gz -C /content\n",
        "    !ln -s /content/text_alignments ./text_alignments\n",
        "    !git clone https://github.com/NVIDIA/nv-wavenet.git nv_wavenet\n",
        "    %cd /content/drive/MyDrive/silent_speech/nv_wavenet/pytorch\n",
        "    !make\n",
        "    !python build.py install\n",
        "    %cd /content/drive/MyDrive/silent_speech\n",
        "    !curl -LO https://github.com/mozilla/DeepSpeech/releases/download/v0.7.0/deepspeech-0.7.0-models.pbmm\n",
        "    !curl -LO https://github.com/mozilla/DeepSpeech/releases/download/v0.7.0/deepspeech-0.7.0-models.scorer\n"
      ],
      "metadata": {
        "colab": {
          "base_uri": "https://localhost:8080/"
        },
        "id": "ZwddtnwLqTl5",
        "outputId": "2b5f58c0-4383-4551-aaa3-de915de75f7d"
      },
      "execution_count": 3,
      "outputs": [
        {
          "output_type": "stream",
          "name": "stdout",
          "text": [
            "/content/drive/MyDrive/silent_speech\n"
          ]
        }
      ]
    },
    {
      "cell_type": "markdown",
      "source": [
        "# Environment Setup"
      ],
      "metadata": {
        "id": "I9F1MccM3BAH"
      }
    },
    {
      "cell_type": "code",
      "source": [
        "!pip install pysndfile\n",
        "#==1.0.28"
      ],
      "metadata": {
        "id": "H0gT8Aqg2URM",
        "colab": {
          "base_uri": "https://localhost:8080/"
        },
        "outputId": "5a28ed46-a483-4f15-ab71-0a9bf523cc48"
      },
      "execution_count": 4,
      "outputs": [
        {
          "output_type": "stream",
          "name": "stdout",
          "text": [
            "Requirement already satisfied: pysndfile in /usr/local/lib/python3.7/dist-packages (1.3.8)\n",
            "Requirement already satisfied: numpy>=1.13.0 in /usr/local/lib/python3.7/dist-packages (from pysndfile) (1.19.5)\n"
          ]
        }
      ]
    },
    {
      "cell_type": "code",
      "source": [
        "!pip install absl-py librosa soundfile matplotlib scipy numba jiwer unidecode deepspeech==0.8.2 praat-textgrids"
      ],
      "metadata": {
        "id": "aJjpZviz2gv1",
        "colab": {
          "base_uri": "https://localhost:8080/"
        },
        "outputId": "123170b7-5d05-4240-e590-6d3950e7cd49"
      },
      "execution_count": 5,
      "outputs": [
        {
          "output_type": "stream",
          "name": "stdout",
          "text": [
            "Requirement already satisfied: absl-py in /usr/local/lib/python3.7/dist-packages (1.0.0)\n",
            "Requirement already satisfied: librosa in /usr/local/lib/python3.7/dist-packages (0.8.1)\n",
            "Requirement already satisfied: soundfile in /usr/local/lib/python3.7/dist-packages (0.10.3.post1)\n",
            "Requirement already satisfied: matplotlib in /usr/local/lib/python3.7/dist-packages (3.2.2)\n",
            "Requirement already satisfied: scipy in /usr/local/lib/python3.7/dist-packages (1.4.1)\n",
            "Requirement already satisfied: numba in /usr/local/lib/python3.7/dist-packages (0.51.2)\n",
            "Collecting jiwer\n",
            "  Downloading jiwer-2.3.0-py3-none-any.whl (15 kB)\n",
            "Collecting unidecode\n",
            "  Downloading Unidecode-1.3.2-py3-none-any.whl (235 kB)\n",
            "\u001b[K     |████████████████████████████████| 235 kB 5.2 MB/s \n",
            "\u001b[?25hCollecting deepspeech==0.8.2\n",
            "  Downloading deepspeech-0.8.2-cp37-cp37m-manylinux1_x86_64.whl (8.3 MB)\n",
            "\u001b[K     |████████████████████████████████| 8.3 MB 42.4 MB/s \n",
            "\u001b[?25hCollecting praat-textgrids\n",
            "  Downloading praat-textgrids-1.3.1.tar.gz (12 kB)\n",
            "Requirement already satisfied: numpy>=1.14.5 in /usr/local/lib/python3.7/dist-packages (from deepspeech==0.8.2) (1.19.5)\n",
            "Requirement already satisfied: six in /usr/local/lib/python3.7/dist-packages (from absl-py) (1.15.0)\n",
            "Requirement already satisfied: pooch>=1.0 in /usr/local/lib/python3.7/dist-packages (from librosa) (1.6.0)\n",
            "Requirement already satisfied: resampy>=0.2.2 in /usr/local/lib/python3.7/dist-packages (from librosa) (0.2.2)\n",
            "Requirement already satisfied: decorator>=3.0.0 in /usr/local/lib/python3.7/dist-packages (from librosa) (4.4.2)\n",
            "Requirement already satisfied: joblib>=0.14 in /usr/local/lib/python3.7/dist-packages (from librosa) (1.1.0)\n",
            "Requirement already satisfied: scikit-learn!=0.19.0,>=0.14.0 in /usr/local/lib/python3.7/dist-packages (from librosa) (1.0.2)\n",
            "Requirement already satisfied: audioread>=2.0.0 in /usr/local/lib/python3.7/dist-packages (from librosa) (2.1.9)\n",
            "Requirement already satisfied: packaging>=20.0 in /usr/local/lib/python3.7/dist-packages (from librosa) (21.3)\n",
            "Requirement already satisfied: cffi>=1.0 in /usr/local/lib/python3.7/dist-packages (from soundfile) (1.15.0)\n",
            "Requirement already satisfied: llvmlite<0.35,>=0.34.0.dev0 in /usr/local/lib/python3.7/dist-packages (from numba) (0.34.0)\n",
            "Requirement already satisfied: setuptools in /usr/local/lib/python3.7/dist-packages (from numba) (57.4.0)\n",
            "Requirement already satisfied: pycparser in /usr/local/lib/python3.7/dist-packages (from cffi>=1.0->soundfile) (2.21)\n",
            "Requirement already satisfied: pyparsing!=3.0.5,>=2.0.2 in /usr/local/lib/python3.7/dist-packages (from packaging>=20.0->librosa) (3.0.7)\n",
            "Requirement already satisfied: appdirs>=1.3.0 in /usr/local/lib/python3.7/dist-packages (from pooch>=1.0->librosa) (1.4.4)\n",
            "Requirement already satisfied: requests>=2.19.0 in /usr/local/lib/python3.7/dist-packages (from pooch>=1.0->librosa) (2.23.0)\n",
            "Requirement already satisfied: urllib3!=1.25.0,!=1.25.1,<1.26,>=1.21.1 in /usr/local/lib/python3.7/dist-packages (from requests>=2.19.0->pooch>=1.0->librosa) (1.24.3)\n",
            "Requirement already satisfied: chardet<4,>=3.0.2 in /usr/local/lib/python3.7/dist-packages (from requests>=2.19.0->pooch>=1.0->librosa) (3.0.4)\n",
            "Requirement already satisfied: idna<3,>=2.5 in /usr/local/lib/python3.7/dist-packages (from requests>=2.19.0->pooch>=1.0->librosa) (2.10)\n",
            "Requirement already satisfied: certifi>=2017.4.17 in /usr/local/lib/python3.7/dist-packages (from requests>=2.19.0->pooch>=1.0->librosa) (2021.10.8)\n",
            "Requirement already satisfied: threadpoolctl>=2.0.0 in /usr/local/lib/python3.7/dist-packages (from scikit-learn!=0.19.0,>=0.14.0->librosa) (3.0.0)\n",
            "Requirement already satisfied: kiwisolver>=1.0.1 in /usr/local/lib/python3.7/dist-packages (from matplotlib) (1.3.2)\n",
            "Requirement already satisfied: cycler>=0.10 in /usr/local/lib/python3.7/dist-packages (from matplotlib) (0.11.0)\n",
            "Requirement already satisfied: python-dateutil>=2.1 in /usr/local/lib/python3.7/dist-packages (from matplotlib) (2.8.2)\n",
            "Collecting python-Levenshtein==0.12.2\n",
            "  Downloading python-Levenshtein-0.12.2.tar.gz (50 kB)\n",
            "\u001b[K     |████████████████████████████████| 50 kB 3.2 MB/s \n",
            "\u001b[?25hBuilding wheels for collected packages: python-Levenshtein, praat-textgrids\n",
            "  Building wheel for python-Levenshtein (setup.py) ... \u001b[?25l\u001b[?25hdone\n",
            "  Created wheel for python-Levenshtein: filename=python_Levenshtein-0.12.2-cp37-cp37m-linux_x86_64.whl size=149854 sha256=c4859430898394e67b5ce84a1de3dceebb665eaa9df1da31abc9dd8eceeafa10\n",
            "  Stored in directory: /root/.cache/pip/wheels/05/5f/ca/7c4367734892581bb5ff896f15027a932c551080b2abd3e00d\n",
            "  Building wheel for praat-textgrids (setup.py) ... \u001b[?25l\u001b[?25hdone\n",
            "  Created wheel for praat-textgrids: filename=praat_textgrids-1.3.1-py3-none-any.whl size=12397 sha256=1534534d0634d66f281688f32e16172d6046ede9581d43a9177045469592ec8b\n",
            "  Stored in directory: /root/.cache/pip/wheels/78/5e/7c/ebd0d2a251e76cc196edcb3781be75b68dfbf91f149060e6d5\n",
            "Successfully built python-Levenshtein praat-textgrids\n",
            "Installing collected packages: python-Levenshtein, unidecode, praat-textgrids, jiwer, deepspeech\n",
            "Successfully installed deepspeech-0.8.2 jiwer-2.3.0 praat-textgrids-1.3.1 python-Levenshtein-0.12.2 unidecode-1.3.2\n"
          ]
        }
      ]
    },
    {
      "cell_type": "markdown",
      "source": [
        "# Running"
      ],
      "metadata": {
        "id": "8u5jksv63Bf-"
      }
    },
    {
      "cell_type": "code",
      "source": [
        "#!python wavenet_model.py --output_directory \"./models/wavenet_model/\" --silent_data_directories \"\"\n",
        "!python wavenet_model.py --pretrained_wavenet_model \"./models/wavenet_model/wavenet_model_1_of_50.pt\" --output_directory \"./models/wavenet_model/\" --silent_data_directories \"\""
      ],
      "metadata": {
        "id": "tS9ezcIh3Z6N",
        "colab": {
          "base_uri": "https://localhost:8080/"
        },
        "outputId": "d4b9e2d5-02f9-448f-ba4a-c8aae1ece253"
      },
      "execution_count": null,
      "outputs": [
        {
          "output_type": "stream",
          "name": "stdout",
          "text": [
            "['wavenet_model.py', '--pretrained_wavenet_model', './models/wavenet_model/wavenet_model_1_of_50.pt', '--output_directory', './models/wavenet_model/', '--silent_data_directories', '']\n",
            "output example: (./emg_data/voiced_parallel_data/5-6, 194)\n",
            "/content/drive/MyDrive/silent_speech/nv_wavenet/pytorch/wavenet.py:46: UserWarning: nn.init.xavier_uniform is now deprecated in favor of nn.init.xavier_uniform_.\n",
            "  self.conv.weight, gain=torch.nn.init.calculate_gain(w_init_gain))\n",
            "/usr/local/lib/python3.7/dist-packages/torch/nn/functional.py:1795: UserWarning: nn.functional.tanh is deprecated. Use torch.tanh instead.\n",
            "  warnings.warn(\"nn.functional.tanh is deprecated. Use torch.tanh instead.\")\n",
            "/usr/local/lib/python3.7/dist-packages/torch/nn/functional.py:1806: UserWarning: nn.functional.sigmoid is deprecated. Use torch.sigmoid instead.\n",
            "  warnings.warn(\"nn.functional.sigmoid is deprecated. Use torch.sigmoid instead.\")\n"
          ]
        }
      ]
    },
    {
      "cell_type": "code",
      "source": [
        "\n",
        "#!python transduction_model.py --data_size_fraction 0.5 --batch_size 1 --pretrained_wavenet_model \"./models/wavenet_model/wavenet_model.pt\" --output_directory \"./models/transduction_model/\"\n",
        "#!python transduction_model.py --batch_size 2 --pretrained_wavenet_model \"./models/wavenet_model/wavenet_model.pt\" --output_directory \"./models/transduction_model/\"\n",
        "#!python transduction_model.py --pretrained_wavenet_model \"./models/wavenet_model/wavenet_model.pt\" --output_directory \"./models/transduction_model/\"\n",
        "#!python transduction_model.py --batch_size 32 --pretrained_wavenet_model \"./models/wavenet_model/wavenet_model.pt\" --output_directory \"./models/transduction_model/\"\n",
        "\n",
        "!python transduction_model.py --start_training_from ./models/transduction_model/model.pt --pretrained_wavenet_model \"./models/wavenet_model/wavenet_model.pt\" --output_directory \"./models/transduction_model/\"\n"
      ],
      "metadata": {
        "id": "NuupoZJDb352"
      },
      "execution_count": null,
      "outputs": []
    },
    {
      "cell_type": "code",
      "source": [
        "!python transduction_model.py --pretrained_wavenet_model \"./models/wavenet_model/wavenet_model.pt\" --output_directory \"./models/transduction_model/\"\n"
      ],
      "metadata": {
        "id": "c0bpM3kD3dYo"
      },
      "execution_count": null,
      "outputs": []
    },
    {
      "cell_type": "code",
      "source": [
        "!python evaluate.py --models ./models/transduction_model/model.pt --pretrained_wavenet_model ./models/wavenet_model/wavenet_model.pt --output_directory evaluation_output\n"
      ],
      "metadata": {
        "id": "JTKhs6NA3g5z",
        "colab": {
          "base_uri": "https://localhost:8080/"
        },
        "outputId": "9d02e088-20e0-4fe1-87ba-9df873fc34bb"
      },
      "execution_count": 13,
      "outputs": [
        {
          "output_type": "stream",
          "name": "stdout",
          "text": [
            "Common confusions (confusion, accuracy)\n",
            "eh ah 16.2 37.7\n",
            "l ah 17.4 33.1\n",
            "er ah 17.8 32.9\n",
            "iy ah 18.2 30.5\n",
            "ah ae 18.3 34.5\n",
            "r ah 18.4 33.4\n",
            "t ah 18.7 27.5\n",
            "ay ah 20.1 43.4\n",
            "ih ah 22.5 31.5\n",
            "n ah 23.8 35.4\n",
            "/content/drive/MyDrive/silent_speech/nv_wavenet/pytorch/wavenet.py:46: UserWarning: nn.init.xavier_uniform is now deprecated in favor of nn.init.xavier_uniform_.\n",
            "  self.conv.weight, gain=torch.nn.init.calculate_gain(w_init_gain))\n",
            "TensorFlow: v2.2.0-24-g1c1b2b9\n",
            "DeepSpeech: v0.8.2-0-g02e4c76\n",
            "2022-02-03 23:52:10.294596: I tensorflow/core/platform/cpu_feature_guard.cc:143] Your CPU supports instructions that this TensorFlow binary was not compiled to use: AVX2 FMA\n",
            "targets: ['henderson he called you saw that shooting star last night', 'he read and reread the paper fearing the worst had happened to me', 'he heard footsteps running to and fro in the rooms and up and down stairs behind him', 'some of the refugees were exchanging news with the people on the omnibuses', 'such things i told myself could not be', 'at the same time four of their fighting machines similarly armed with tubes crossed the river and two of them black against the western sky came into sight of myself and the curate as we hurried wearily and painfully along the road that runs northward out of halliford', 'the hot water from the martians overthrow drifted downstream with me so that for the best part of a mile i could see little of either bank', 'the soldiers were having the greatest difficulty in making them realise the gravity of their position', 'their armoured bodies glittered in the sun as they swept swiftly forward upon the guns growing rapidly larger as they drew nearer', '', 'presently he came upon a stile and crossing it followed a footpath northeastward', 'all night long the martians were hammering and stirring sleepless indefatigable at work upon the machines they were making ready and ever and again a puff of greenishwhite smoke whirled up to the starlit sky', 'eh said one of the men turning', 'suddenly he vanished and i could have fancied a faint shriek had reached me', 'there his story became ejaculatory', 'he is not an insurance agent', 'it was all so real and so familiar', 'i should have started at once but my companion had been in active service and he knew better than that', 'the light upon the railway puzzled me at first there were a black heap and a vivid glare and to the right of that a row of yellow oblongs', 'they seemed very helpless in that pit of theirs', 'i myself heard nothing of that', 'the authorities had reason to suppose from the size of the cylinders that at the outside there could not be more than five in each cylinderfifteen altogether', 'but its something more than a meteorite', 'fearful massacres in the thames valley', 'at the end of it i sat tempering nuts with a cigarette regretting ogilvys rashness and denouncing the shortsighted timidity of the martians', 'besides that there was quite a heap of bicycles', 'even then he scarcely understood what this indicated until he heard a muffled grating sound and saw the black mark jerk forward an inch or so', 'and so forth', 'he saw this one pursue a man catch him up in one of its steely tentacles and knock his head against the trunk of a pine tree', 'i saw astonishment giving place to horror on the faces of the people about me', 'every now and then people would glance nervously across the wey at the meadows towards chertsey but everything over there was still', 'then abruptly he sat down before the table put his head on his arms and began to sob and weep like a little boy in a perfect passion of emotion while i with a curious forgetfulness of my own recent despair stood beside him wondering', 'this was the deputation', 'then suddenly the white flashes of the heatray came leaping towards me', 'between us and leatherhead however lay the third cylinder with its guarding giants', 'remarkable story from woking', 'iv', 'the horse took the bit between his teeth and bolted', 'the martians and their appliances were altogether invisible save for that thin mast upon which their restless mirror wobbled', 'these hilllike forms grew lower and broader even as we stared', 'it would seem that a number of men or animals had rushed across the lawn', 'leatherhead is about twelve miles from maybury hill', 'he became alarmed at the news in this and went again to waterloo station to find out if communication were restored', 'for a minute he scarcely realised what this meant and although the heat was excessive he clambered down into the pit close to the bulk to see the thing more clearly', 'people were fighting savagely for standingroom in the carriages even at two oclock', 'he fancied even then that the cooling of the body might account for this but what disturbed that idea was the fact that the ash was falling only from the end of the cylinder', 'the burning heather had been extinguished but the level ground towards ottershaw was blackened as far as one could see and still giving off vertical streamers of smoke', 'i stopped short in the doorway', 'they are dangerous because no doubt they are mad with terror', 'i and my wife stood amazed', 'i felt a tug at the reins', 'i stopped at the group of people', 'x', 'i found a little crowd of perhaps twenty people surrounding the huge hole in which the cylinder lay', 'when half suffocated i raised my head above water the martians hood pointed at the batteries that were still firing across the river and as it advanced it swung loose what must have been the generator of the heatray', 'i could not credit it', 'that was it', 'xiii', 'for my own part i had been feverishly excited all day', 'i know i did', 'the intense excitement of the events had no doubt left my perceptive powers in a state of erethism', 'people came panting along under heavy burdens one husband and wife were even carrying a small outhouse door between them with some of their household goods piled thereon', 'probably this is due to the relative strength of the earths gravitational energy on that last text their leaderwriter expanded very comfortingly', 'to get under water', 'they have done a foolish thing said i fingering my wineglass', 'we were far beyond the range of the heatray there and had it not been for the silent desertion of some of the houses the stirring movement of packing in others and the knot of soldiers standing on the bridge over the railway and staring down the line towards woking the day would have seemed very like any other sunday', 'i think they perceived that nothing was to be done for the present and had gone away to breakfast at hendersons house', 'those who have never seen a living martian can scarcely imagine the strange horror of its appearance', 'that indeed was the general opinion', 'by byfleet station we emerged from the pine trees and found the country calm and peaceful under the morning sunlight', 'the artilleryman jumped down the bank into the road and saluted', 'i did not know it but that was the last civilised dinner i was to eat for very many strange and terrible days', 'i too on my side began to move towards the pit', 'then the door behind him opened and the man who lodged across the landing came in dressed only in shirt trousers and slippers his braces loose about his waist his hair disordered from his pillow', 'the place was impassable', 'there was a mouth under the eyes the lipless brim of which quivered and panted and dropped saliva', 'the chances against anything manlike on mars are a million to one he said', 'where are you going i asked', 'he turned stared bawled something about crawling out in a thing like a dish cover and ran on to the gate of the house at the crest', 'an enterprising sweetstuff dealer in the chobham road had sent up his son with a barrowload of green apples and ginger beer', 'he heard the maxims rattle for a time and then become still', 'a dozen rockets sprang out of the hills before them so soon as they began to move and warned the waiting batteries about ditton and esher', 'xii', 'i half turned keeping my eyes fixed upon the cylinder still from which other tentacles were now projecting and began pushing my way back from the edge of the pit', 'his idea was that meteorites might be falling in a heavy shower upon the planet or that a huge volcanic explosion was in progress', 'after a while i left them and went on to the railway station to get as many morning papers as i could', 'in spite of ogilvy i still believed that there were men in mars', 'i stood over him waiting for the next flash', 'i remember i felt an extraordinary persuasion that i was being played with that presently when i was upon the very verge of safety this mysterious deathas swift as the passage of lightwould leap after me from the pit about the cylinder and strike me down', 'the ringing impact of trucks the sharp whistle of the engines from the junction mingled with their shouts of men from mars excited men came into the station about nine oclock with incredible tidings and caused no more disturbance than drunkards might have done', 'i looked again at the cylinder and ungovernable terror gripped me', 'what news from the common said i', 'beyond was a fringe of excitement and farther than that fringe the inflammation had not crept as yet', 'it hardly seemed a fair fight to me at that time', 'the case appeared to be enormously thick and it was possible that the faint sounds we heard represented a noisy tumult in the interior', 'the martians had been repulsed they were not invulnerable', 'youll hear more yet i said and went on to my home', 'the shell burst clean in the face of the thing', 'at times i suffer from the strangest sense of detachment from myself and the world about me i seem to watch it all from the outside from somewhere inconceivably remote out of time out of space out of the stress and tragedy of it all']\n",
            "predictions: ['it', 'the entente', 'but in the desert', 'in a is easier and the base', 'soerine', 'the tenement and is but the inmates had in it no i never been in a elana', 'but i mansilitan', 'admission', 'i asked as titania', '', 'i am niceties', 'the noise but it otaheitan', 'then he', 'nisida', 'the ', 'is it in', 'as to be', 'i have eaten', 'it abovementioned and i tie', 'the estate and', 'as he', 'it was an misunderstandin', 'it is ', 'and this is', 'then as though he imitated', 'as asiatics', 'and as soon as his sensitiveness said austen', '', 'sassination', 'this is the', 'in diseases', 'and then there is one missionaries in italian', 'it ', 'and in a basement and even', 'it is insidious', 'i', '', 'but and i', 'the attentive delineations even', 'he is on the indian', 'the meanest', 'then it is not a macbeth', 'even in isidore', 'and yet anne', 'and she its', 'patients in a ', 'and then a anemometer', 'i do ', 'the note', 'and in the', 'a man in an', 'the man', 'i', 'but petite', 'then indeed is attentive thieves in that it is as emotional', '', 'it', 'then one', 'and then added ', 'and', 'but the tenants', 'and and and the antennae of an intended', 'and then i veterinarian', 'it ', 'aeneas', 'and i inessentials satiated ', 'annette', 'an andante', 'the', 'and then it is a mean initiated', 'in the inter', 'and when it benedictions', 'nice indian', 'matthiette ostentatious is sore', 'as pure', 'intense', 'it had a', 'it is', 'so i sat aeneas', 'this as i is', 'masanath', 'this administered the', 'a man', 'he inspected them and then', 'somersetshire', 'by isabella', 'i ', 'the ', 'and denise and adonai suspicion', 'the intense passionate and reverberations', 'in his averted', 'alison', 'but amelioration', 'i had been in a man', 'historian', 'that is its inmate', 'the team', 'that is ', 'but as i have inattentiveness']\n",
            "Traceback (most recent call last):\n",
            "  File \"evaluate.py\", line 61, in <module>\n",
            "    main()\n",
            "  File \"evaluate.py\", line 57, in main\n",
            "    evaluate(testset, FLAGS.output_directory)\n",
            "  File \"/content/drive/MyDrive/silent_speech/asr.py\", line 28, in evaluate\n",
            "    logging.info(f'wer: {jiwer.wer(targets, predictions)}')\n",
            "  File \"/usr/local/lib/python3.7/dist-packages/jiwer/measures.py\", line 73, in wer\n",
            "    truth, hypothesis, truth_transform, hypothesis_transform, **kwargs\n",
            "  File \"/usr/local/lib/python3.7/dist-packages/jiwer/measures.py\", line 206, in compute_measures\n",
            "    raise ValueError(\"one or more groundtruths are empty strings\")\n",
            "ValueError: one or more groundtruths are empty strings\n"
          ]
        }
      ]
    },
    {
      "cell_type": "code",
      "source": [
        "!python evaluate.py --testset_file testset_origdev.json --models ./models/transduction_model/model.pt --pretrained_wavenet_model ./models/wavenet_model/wavenet_model.pt --output_directory evaluation_output\n"
      ],
      "metadata": {
        "id": "XDjqsCqo3myt",
        "colab": {
          "base_uri": "https://localhost:8080/"
        },
        "outputId": "4bf39bf4-cd53-4648-e01c-144cf84d0724"
      },
      "execution_count": 14,
      "outputs": [
        {
          "output_type": "stream",
          "name": "stdout",
          "text": [
            "Common confusions (confusion, accuracy)\n",
            "eh ah 16.2 37.7\n",
            "l ah 17.4 33.1\n",
            "er ah 17.8 32.9\n",
            "iy ah 18.2 30.5\n",
            "ah ae 18.3 34.5\n",
            "r ah 18.4 33.4\n",
            "t ah 18.7 27.5\n",
            "ay ah 20.1 43.4\n",
            "ih ah 22.5 31.5\n",
            "n ah 23.8 35.4\n",
            "/content/drive/MyDrive/silent_speech/nv_wavenet/pytorch/wavenet.py:46: UserWarning: nn.init.xavier_uniform is now deprecated in favor of nn.init.xavier_uniform_.\n",
            "  self.conv.weight, gain=torch.nn.init.calculate_gain(w_init_gain))\n",
            "TensorFlow: v2.2.0-24-g1c1b2b9\n",
            "DeepSpeech: v0.8.2-0-g02e4c76\n",
            "2022-02-04 00:17:52.829284: I tensorflow/core/platform/cpu_feature_guard.cc:143] Your CPU supports instructions that this TensorFlow binary was not compiled to use: AVX2 FMA\n",
            "targets: ['henderson he called you saw that shooting star last night', 'he read and reread the paper fearing the worst had happened to me', 'he heard footsteps running to and fro in the rooms and up and down stairs behind him', 'some of the refugees were exchanging news with the people on the omnibuses', 'such things i told myself could not be', 'at the same time four of their fighting machines similarly armed with tubes crossed the river and two of them black against the western sky came into sight of myself and the curate as we hurried wearily and painfully along the road that runs northward out of halliford', 'the hot water from the martians overthrow drifted downstream with me so that for the best part of a mile i could see little of either bank', 'the soldiers were having the greatest difficulty in making them realise the gravity of their position', 'their armoured bodies glittered in the sun as they swept swiftly forward upon the guns growing rapidly larger as they drew nearer', '', 'presently he came upon a stile and crossing it followed a footpath northeastward', 'all night long the martians were hammering and stirring sleepless indefatigable at work upon the machines they were making ready and ever and again a puff of greenishwhite smoke whirled up to the starlit sky', 'eh said one of the men turning', 'suddenly he vanished and i could have fancied a faint shriek had reached me', 'there his story became ejaculatory', 'he is not an insurance agent', 'it was all so real and so familiar', 'i should have started at once but my companion had been in active service and he knew better than that', 'the light upon the railway puzzled me at first there were a black heap and a vivid glare and to the right of that a row of yellow oblongs', 'they seemed very helpless in that pit of theirs', 'i myself heard nothing of that', 'the authorities had reason to suppose from the size of the cylinders that at the outside there could not be more than five in each cylinderfifteen altogether', 'but its something more than a meteorite', 'fearful massacres in the thames valley', 'at the end of it i sat tempering nuts with a cigarette regretting ogilvys rashness and denouncing the shortsighted timidity of the martians', 'besides that there was quite a heap of bicycles', 'even then he scarcely understood what this indicated until he heard a muffled grating sound and saw the black mark jerk forward an inch or so', 'and so forth', 'he saw this one pursue a man catch him up in one of its steely tentacles and knock his head against the trunk of a pine tree', 'i saw astonishment giving place to horror on the faces of the people about me', 'every now and then people would glance nervously across the wey at the meadows towards chertsey but everything over there was still', 'then abruptly he sat down before the table put his head on his arms and began to sob and weep like a little boy in a perfect passion of emotion while i with a curious forgetfulness of my own recent despair stood beside him wondering', 'this was the deputation', 'then suddenly the white flashes of the heatray came leaping towards me', 'between us and leatherhead however lay the third cylinder with its guarding giants', 'remarkable story from woking', 'iv', 'the horse took the bit between his teeth and bolted', 'the martians and their appliances were altogether invisible save for that thin mast upon which their restless mirror wobbled', 'these hilllike forms grew lower and broader even as we stared', 'it would seem that a number of men or animals had rushed across the lawn', 'leatherhead is about twelve miles from maybury hill', 'he became alarmed at the news in this and went again to waterloo station to find out if communication were restored', 'for a minute he scarcely realised what this meant and although the heat was excessive he clambered down into the pit close to the bulk to see the thing more clearly', 'people were fighting savagely for standingroom in the carriages even at two oclock', 'he fancied even then that the cooling of the body might account for this but what disturbed that idea was the fact that the ash was falling only from the end of the cylinder', 'the burning heather had been extinguished but the level ground towards ottershaw was blackened as far as one could see and still giving off vertical streamers of smoke', 'i stopped short in the doorway', 'they are dangerous because no doubt they are mad with terror', 'i and my wife stood amazed', 'i felt a tug at the reins', 'i stopped at the group of people', 'x', 'i found a little crowd of perhaps twenty people surrounding the huge hole in which the cylinder lay', 'when half suffocated i raised my head above water the martians hood pointed at the batteries that were still firing across the river and as it advanced it swung loose what must have been the generator of the heatray', 'i could not credit it', 'that was it', 'xiii', 'for my own part i had been feverishly excited all day', 'i know i did', 'the intense excitement of the events had no doubt left my perceptive powers in a state of erethism', 'people came panting along under heavy burdens one husband and wife were even carrying a small outhouse door between them with some of their household goods piled thereon', 'probably this is due to the relative strength of the earths gravitational energy on that last text their leaderwriter expanded very comfortingly', 'to get under water', 'they have done a foolish thing said i fingering my wineglass', 'we were far beyond the range of the heatray there and had it not been for the silent desertion of some of the houses the stirring movement of packing in others and the knot of soldiers standing on the bridge over the railway and staring down the line towards woking the day would have seemed very like any other sunday', 'i think they perceived that nothing was to be done for the present and had gone away to breakfast at hendersons house', 'those who have never seen a living martian can scarcely imagine the strange horror of its appearance', 'that indeed was the general opinion', 'by byfleet station we emerged from the pine trees and found the country calm and peaceful under the morning sunlight', 'the artilleryman jumped down the bank into the road and saluted', 'i did not know it but that was the last civilised dinner i was to eat for very many strange and terrible days', 'i too on my side began to move towards the pit', 'then the door behind him opened and the man who lodged across the landing came in dressed only in shirt trousers and slippers his braces loose about his waist his hair disordered from his pillow', 'the place was impassable', 'there was a mouth under the eyes the lipless brim of which quivered and panted and dropped saliva', 'the chances against anything manlike on mars are a million to one he said', 'where are you going i asked', 'he turned stared bawled something about crawling out in a thing like a dish cover and ran on to the gate of the house at the crest', 'an enterprising sweetstuff dealer in the chobham road had sent up his son with a barrowload of green apples and ginger beer', 'he heard the maxims rattle for a time and then become still', 'a dozen rockets sprang out of the hills before them so soon as they began to move and warned the waiting batteries about ditton and esher', 'xii', 'i half turned keeping my eyes fixed upon the cylinder still from which other tentacles were now projecting and began pushing my way back from the edge of the pit', 'his idea was that meteorites might be falling in a heavy shower upon the planet or that a huge volcanic explosion was in progress', 'after a while i left them and went on to the railway station to get as many morning papers as i could', 'in spite of ogilvy i still believed that there were men in mars', 'i stood over him waiting for the next flash', 'i remember i felt an extraordinary persuasion that i was being played with that presently when i was upon the very verge of safety this mysterious deathas swift as the passage of lightwould leap after me from the pit about the cylinder and strike me down', 'the ringing impact of trucks the sharp whistle of the engines from the junction mingled with their shouts of men from mars excited men came into the station about nine oclock with incredible tidings and caused no more disturbance than drunkards might have done', 'i looked again at the cylinder and ungovernable terror gripped me', 'what news from the common said i', 'beyond was a fringe of excitement and farther than that fringe the inflammation had not crept as yet', 'it hardly seemed a fair fight to me at that time', 'the case appeared to be enormously thick and it was possible that the faint sounds we heard represented a noisy tumult in the interior', 'the martians had been repulsed they were not invulnerable', 'youll hear more yet i said and went on to my home', 'the shell burst clean in the face of the thing', 'at times i suffer from the strangest sense of detachment from myself and the world about me i seem to watch it all from the outside from somewhere inconceivably remote out of time out of space out of the stress and tragedy of it all']\n",
            "predictions: ['it', 'the entente', 'but in the desert', 'in a is easier and the base', 'soerine', 'the tenement and is but the inmates had in it no i never been in a elana', 'but i mansilitan', 'admission', 'i asked as titania', '', 'i am niceties', 'the noise but it otaheitan have the', 'then he', 'nisida', 'the ', 'is it in', 'as the man but', 'i have eaten', 'it abovementioned and i tie', 'the estate and', 'as he', 'it was an misunderstandin', 'it is ', 'and this is', 'then as though he imitated', 'as asiatics', 'and as soon as his sensitiveness said austen', '', 'sassination', 'this is the', 'in diseases', 'and then there is one missionaries in italian', 'it ', 'and in a basement and even', 'it is insidious', 'i', '', 'but and i', 'the attentive delineations even', 'he is on the indian', 'the meanest', 'then it is not a macbeth', 'even in isidore', 'and yet anne', 'and she lies', 'patients in a ', 'and then a anemometer', 'i do ', 'the note', 'and in the', 'a man in an', 'the man', 'i', 'but petite', 'then indeed is attentive thieves in that it is as emotional', '', 'it', 'then one', 'and then added ', 'and', 'but the tenants', 'and and and the antennae of an intended', 'and then i veterinarian', 'it ', 'aeneas', 'and i inessentials satiated ', 'annette', 'an andante', 'the', 'and then it is a mean initiated', 'in the inter', 'and when it aneantissement', 'nice indian', 'matthiette ostentatious is sore', 'as pure', 'intense', 'it had a', 'it is', 'so i sat aeneas', 'the astonished', 'masanath', 'this administered the', 'a man', 'he inspected them and then', 'somersetshire', 'by isabella', 'i ', 'the ', 'and denise and adonai suspicion', 'the international and even then it heeled', 'in his averted', 'alison', 'but amelioration', 'i had been in a man', 'historian', 'that is its inmate', 'the team', 'that is ', 'but as i have inattentiveness']\n",
            "Traceback (most recent call last):\n",
            "  File \"evaluate.py\", line 61, in <module>\n",
            "    main()\n",
            "  File \"evaluate.py\", line 57, in main\n",
            "    evaluate(testset, FLAGS.output_directory)\n",
            "  File \"/content/drive/MyDrive/silent_speech/asr.py\", line 28, in evaluate\n",
            "    logging.info(f'wer: {jiwer.wer(targets, predictions)}')\n",
            "  File \"/usr/local/lib/python3.7/dist-packages/jiwer/measures.py\", line 73, in wer\n",
            "    truth, hypothesis, truth_transform, hypothesis_transform, **kwargs\n",
            "  File \"/usr/local/lib/python3.7/dist-packages/jiwer/measures.py\", line 206, in compute_measures\n",
            "    raise ValueError(\"one or more groundtruths are empty strings\")\n",
            "ValueError: one or more groundtruths are empty strings\n"
          ]
        }
      ]
    }
  ]
}